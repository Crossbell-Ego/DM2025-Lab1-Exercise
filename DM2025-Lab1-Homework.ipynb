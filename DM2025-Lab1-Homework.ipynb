{
 "cells": [
  {
   "cell_type": "markdown",
   "metadata": {},
   "source": [
    "### Student Information\n",
    "Name: WU,MENG-HUSAN 吳孟軒\n",
    "\n",
    "Student ID:113568519\n",
    "\n",
    "GitHub ID: Crossbell-Ego"
   ]
  },
  {
   "cell_type": "markdown",
   "metadata": {},
   "source": [
    "---"
   ]
  },
  {
   "cell_type": "markdown",
   "metadata": {},
   "source": [
    "### Instructions"
   ]
  },
  {
   "cell_type": "markdown",
   "metadata": {},
   "source": [
    "### First Phase Submission"
   ]
  },
  {
   "cell_type": "markdown",
   "metadata": {},
   "source": [
    "1. First: do the **take home** exercises in the [DM2025-Lab1-Master](https://github.com/leoson-wu/DM2025-Lab1-Exercise/blob/main/DM2025-Lab1-Master.ipynb) that considered as **phase 1 (from exercise 1 to exercise 15)**. You can answer in the master file. __This part is worth 10% of your grade.__\n",
    "\n",
    "\n",
    "2. Second: follow the same process from the [DM2025-Lab1-Master](https://github.com/leoson-wu/DM2025-Lab1-Exercise/blob/main/DM2025-Lab1-Master.ipynb) on **the new dataset** up **until phase 1**. You can skip some exercises if you think some steps are not necessary. However main exercises should be completed. You don't need to explain all details as we did (some **minimal comments** explaining your code are useful though).  __This part is worth 15% of your grade.__\n",
    "    -  Use [the new dataset](https://github.com/leoson-wu/DM2025-Lab1-Exercise/blob/main/newdataset/Reddit-stock-sentiment.csv). The dataset contains a 16 columns including 'text' and 'label', with the sentiment labels being: 1.0 is positive, 0.0 is neutral and -1.0 is negative. You can simplify the dataset and use only the columns that you think are necessary. \n",
    "    \n",
    "    - You are allowed to use and modify the `helper` functions in the folder of the first lab session (notice they may need modification) or create your own.\n",
    "    - Use this file to complete the homework from the second part. Make sure the code can be run from the beginning till the end and has all the needed output.\n",
    "\n",
    "\n",
    "3. Third: please attempt the following tasks on **the new dataset**. __This part is worth 10% of your grade.__\n",
    "    - Generate meaningful **new data visualizations**. Refer to online resources and the Data Mining textbook for inspiration and ideas. \n",
    "    \n",
    "\n",
    "\n",
    "4. Fourth: It's hard for us to follow if your code is messy, so please **tidy up your notebook** and **add minimal comments where needed**. __This part is worth 5% of your grade.__\n",
    "\n",
    "You can submit your homework following these guidelines: [DM2025-Lab1-announcement](https://github.com/leoson-wu/DM2025-Lab1-Announcement/blob/main/README.md). Make sure to commit and save your changes to your repository __BEFORE the deadline (September 28th 11:59 pm, Sunday)__. \n",
    "\n",
    "---\n",
    "\n",
    "1. 首先：完成 [DM2025-Lab1-Master](https://github.com/leoson-wu/DM2025-Lab1-Exercise/blob/main/DM2025-Lab1-Master.ipynb) 中的**家庭作業**練習，這些練習被視為**第一階段（從練習 1 到 15）**。你可以在主文件中作答。 __這部分佔你成績的 10%。 __\n",
    "\n",
    "2. 其次：從 [DM2025-Lab1-Master](https://github.com/leoson-wu/DM2025-Lab1-Exercise/blob/main/DM2025-Lab1-Master.ipynb) 開始，使用**新資料集**，直到**第一階段**，按照相同的流程進行。如果你認為某些步驟沒有必要，可以跳過一些練習。但主要練習必須完成。你不需要像我們一樣解釋所有細節（不過，一些**少量註釋**來解釋你的程式碼還是有用的）。 __這部分佔你成績的 15%。 __\n",
    "- 使用[新資料集](https://github.com/leoson-wu/DM2025-Lab1-Exercise/blob/main/newdataset/Reddit-stock-sentiment.csv)。此資料集包含 16 列，包括“文字”和“標籤”，情緒標籤分別為：1.0 表示積極，0.0 表示中性，-1.0 表示消極。你可以簡化資料集，只使用你認為必要的欄位。\n",
    "\n",
    "- 你可以使用和修改第一個實驗課資料夾中的「輔助函數」（注意它們可能需要修改），或建立你自己的函數。\n",
    "- 使用此文件完成第二部分的作業。確保程式碼可以從頭到尾運行，並包含所有需要的輸出。\n",
    "\n",
    "3. 第三部分：請嘗試在**新資料集**上完成以下任務。 __此部分佔你成績的 10%__。\n",
    "- 產生有意義的**新資料視覺化**。請參考線上資源和《資料探勘》教材以獲取靈感和想法。\n",
    "\n",
    "4. 第四部分：如果你的程式碼雜亂無章，我們很難理解，所以請**整理你的筆記本**，並在需要的地方**添加少量註釋**。 __此部分佔你成績的 5%__。\n",
    "\n",
    "你可以按照以下指南提交作業：[DM2025-Lab1-announcement](https://github.com/leoson-wu/DM2025-Lab1-Announcement/blob/main/README.md)。請確保在__截止日期（9 月 28 日星期日晚上 11:59）__之前提交並保存你的更改到你的程式碼庫。"
   ]
  },
  {
   "cell_type": "markdown",
   "metadata": {},
   "source": [
    "### Second Phase Submission "
   ]
  },
  {
   "cell_type": "markdown",
   "metadata": {},
   "source": [
    "**You can keep the answer for phase 1 for easier running and update the phase 2 on the same page.**\n",
    "\n",
    "1. First: Continue doing the **take home** exercises in the [DM2025-Lab1-Master](https://github.com/leoson-wu/DM2025-Lab1-Exercise/blob/main/DM2025-Lab1-Master.ipynb) for **phase 2, starting from Finding frequent patterns**. Use the same master(.ipynb) file. Answer from phase 1 will not be considered at this stage. You can answer in the master file. __This part is worth 10% of your grade.__\n",
    "\n",
    "\n",
    "2. Second: Continue from first phase and do the same process from the [DM2025-Lab1-Master](https://github.com/leoson-wu/DM2025-Lab1-Exercise/blob/main/DM2025-Lab1-Master.ipynb) on **the new dataset** for phase 2, starting from Finding frequent pattern. You can skip some exercises if you think some steps are not necessary. However main exercises should be completed. You don't need to explain all details as we did (some **minimal comments** explaining your code are useful though).  __This part is worth 15% of your grade.__\n",
    "    - Continue using this file to complete the homework from the second part. Make sure the code can be run from the beginning till the end and has all the needed output. Use the same new dataset as in phase 1.\n",
    "    \n",
    "    - You are allowed to use and modify the `helper` functions in the folder of the first lab session (notice they may need modification) or create your own.\n",
    "\n",
    "3. Third: please attempt the following tasks on **the new dataset**. __This part is worth 20% of your grade.__\n",
    "    - Use this file to answer.\n",
    "    - Generate **TF-IDF features** from the tokens of each text. This will generating a document matrix, however, the weights will be computed differently (using the TF-IDF value of each word per document as opposed to the word frequency).  Refer to this Scikit-learn [guide](http://scikit-learn.org/stable/modules/generated/sklearn.feature_extraction.text.TfidfVectorizer.html) .\n",
    "    - Implement a simple **Naive Bayes classifier** that automatically classifies the records into their categories. Use both the TF-IDF features and word frequency features to build two seperate classifiers. Note that for the TF-IDF features you might need to use other type of NB classifier different than the one in the Master Notebook. Comment on the differences and when using augmentation with feature pattern.  Refer to this [article](https://hub.packtpub.com/implementing-3-naive-bayes-classifiers-in-scikit-learn/).\n",
    "\n",
    "\n",
    "4. Fourth: In the lab, we applied each step really quickly just to illustrate how to work with your dataset. There are somethings that are not ideal or the most efficient/meaningful. Each dataset can be handled differently as well. What are those inefficent parts you noticed? How can you improve the Data preprocessing for these specific datasets? __This part is worth 10% of your grade.__\n",
    "\n",
    "\n",
    "5. Fifth: It's hard for us to follow if your code is messy, so please **tidy up your notebook** and **add minimal comments where needed**. __This part is worth 5% of your grade.__\n",
    "\n",
    "\n",
    "You can submit your homework following these guidelines: [DM2025-Lab1-announcement](https://github.com/leoson-wu/DM2025-Lab1-Announcement/blob/main/README.md). Make sure to commit and save your changes to your repository __BEFORE the deadline (October 19th 11:59 pm, Sunday)__. "
   ]
  },
  {
   "cell_type": "markdown",
   "metadata": {},
   "source": [
    "# Phase 1"
   ]
  },
  {
   "cell_type": "code",
   "execution_count": 1,
   "metadata": {},
   "outputs": [
    {
     "name": "stderr",
     "output_type": "stream",
     "text": [
      "[nltk_data] Downloading package punkt to\n",
      "[nltk_data]     C:\\Users\\Ego\\AppData\\Roaming\\nltk_data...\n",
      "[nltk_data]   Package punkt is already up-to-date!\n"
     ]
    }
   ],
   "source": [
    "# test code for environment setup\n",
    "import pandas as pd\n",
    "import numpy as np\n",
    "import nltk\n",
    "nltk.download('punkt') # download the NLTK datasets\n",
    "from sklearn.datasets import fetch_20newsgroups\n",
    "from sklearn.feature_extraction.text import CountVectorizer\n",
    "import plotly as py\n",
    "import math\n",
    "# If you get \"ModuleNotFoundError: No module named 'PAMI'\"\n",
    "# run the following in a new Jupyter cell:\n",
    "# !pip3 install PAMI\n",
    "import PAMI\n",
    "import umap\n"
   ]
  },
  {
   "cell_type": "code",
   "execution_count": 2,
   "metadata": {},
   "outputs": [
    {
     "name": "stdout",
     "output_type": "stream",
     "text": [
      "Loaded dataframe shape: (847, 16)\n"
     ]
    },
    {
     "data": {
      "text/html": [
       "<div>\n",
       "<style scoped>\n",
       "    .dataframe tbody tr th:only-of-type {\n",
       "        vertical-align: middle;\n",
       "    }\n",
       "\n",
       "    .dataframe tbody tr th {\n",
       "        vertical-align: top;\n",
       "    }\n",
       "\n",
       "    .dataframe thead th {\n",
       "        text-align: right;\n",
       "    }\n",
       "</style>\n",
       "<table border=\"1\" class=\"dataframe\">\n",
       "  <thead>\n",
       "    <tr style=\"text-align: right;\">\n",
       "      <th></th>\n",
       "      <th>type</th>\n",
       "      <th>datetime</th>\n",
       "      <th>post_id</th>\n",
       "      <th>subreddit</th>\n",
       "      <th>title</th>\n",
       "      <th>author</th>\n",
       "      <th>url</th>\n",
       "      <th>upvotes</th>\n",
       "      <th>downvotes</th>\n",
       "      <th>upvote_ratio</th>\n",
       "      <th>text</th>\n",
       "      <th>subjectivity</th>\n",
       "      <th>polarity</th>\n",
       "      <th>sentiment</th>\n",
       "      <th>entities</th>\n",
       "      <th>label</th>\n",
       "    </tr>\n",
       "  </thead>\n",
       "  <tbody>\n",
       "    <tr>\n",
       "      <th>0</th>\n",
       "      <td>comment</td>\n",
       "      <td>2025-04-11 17:29:56</td>\n",
       "      <td>mmli62w</td>\n",
       "      <td>wallstreetbets</td>\n",
       "      <td>Retardation is on the menu boys! WSB is so back</td>\n",
       "      <td>StickyTip420</td>\n",
       "      <td>https://i.redd.it/0yq2ftren8ue1.jpeg</td>\n",
       "      <td>0</td>\n",
       "      <td>NaN</td>\n",
       "      <td>NaN</td>\n",
       "      <td>Calls on retards</td>\n",
       "      <td>1.000000</td>\n",
       "      <td>-0.900000</td>\n",
       "      <td>-1.0</td>\n",
       "      <td>[]</td>\n",
       "      <td>-1.0</td>\n",
       "    </tr>\n",
       "    <tr>\n",
       "      <th>1</th>\n",
       "      <td>comment</td>\n",
       "      <td>2025-04-12 1:12:19</td>\n",
       "      <td>mmnu7v9</td>\n",
       "      <td>wallstreetbets</td>\n",
       "      <td>Retail giant TARGET has now declined for 10 co...</td>\n",
       "      <td>Comfortable-Dog-8437</td>\n",
       "      <td>https://i.redd.it/7tl6puv9waue1.jpeg</td>\n",
       "      <td>-15</td>\n",
       "      <td>NaN</td>\n",
       "      <td>NaN</td>\n",
       "      <td>Stunt as in like why did they even make a big ...</td>\n",
       "      <td>0.177778</td>\n",
       "      <td>0.083333</td>\n",
       "      <td>1.0</td>\n",
       "      <td>['Stunt', 'company', 'deal', 'place']</td>\n",
       "      <td>0.0</td>\n",
       "    </tr>\n",
       "    <tr>\n",
       "      <th>2</th>\n",
       "      <td>comment</td>\n",
       "      <td>2025-04-10 15:09:41</td>\n",
       "      <td>mmeevio</td>\n",
       "      <td>StockMarket</td>\n",
       "      <td>How do you feel about a sitting president maki...</td>\n",
       "      <td>Btankersly66</td>\n",
       "      <td>https://apnews.com/article/trump-truth-social-...</td>\n",
       "      <td>1</td>\n",
       "      <td>NaN</td>\n",
       "      <td>NaN</td>\n",
       "      <td>Seeing lots of red in the ticker.</td>\n",
       "      <td>0.000000</td>\n",
       "      <td>0.000000</td>\n",
       "      <td>0.0</td>\n",
       "      <td>['ticker']</td>\n",
       "      <td>0.0</td>\n",
       "    </tr>\n",
       "    <tr>\n",
       "      <th>3</th>\n",
       "      <td>post</td>\n",
       "      <td>2023-08-30 17:12:55</td>\n",
       "      <td>165kllm</td>\n",
       "      <td>stockstobuytoday</td>\n",
       "      <td>Who knows more? $VMAR</td>\n",
       "      <td>emiljenfn</td>\n",
       "      <td>https://www.reddit.com/r/stockstobuytoday/comm...</td>\n",
       "      <td>30</td>\n",
       "      <td>0.0</td>\n",
       "      <td>0.98</td>\n",
       "      <td>Vision Marine Technologies Inc. is rewriting t...</td>\n",
       "      <td>0.646970</td>\n",
       "      <td>0.216383</td>\n",
       "      <td>1.0</td>\n",
       "      <td>['watercraft', 'skill', 'power', ']', 'feat', ...</td>\n",
       "      <td>1.0</td>\n",
       "    </tr>\n",
       "    <tr>\n",
       "      <th>4</th>\n",
       "      <td>comment</td>\n",
       "      <td>2025-04-11 14:48:05</td>\n",
       "      <td>mmkl6bw</td>\n",
       "      <td>StockMarket</td>\n",
       "      <td>The Trump administration is begging Xi Jinping...</td>\n",
       "      <td>Just-Big6411</td>\n",
       "      <td>https://edition.cnn.com/2025/04/10/politics/tr...</td>\n",
       "      <td>1</td>\n",
       "      <td>NaN</td>\n",
       "      <td>NaN</td>\n",
       "      <td>He didn’t say thank you.</td>\n",
       "      <td>0.000000</td>\n",
       "      <td>0.000000</td>\n",
       "      <td>0.0</td>\n",
       "      <td>[]</td>\n",
       "      <td>-1.0</td>\n",
       "    </tr>\n",
       "  </tbody>\n",
       "</table>\n",
       "</div>"
      ],
      "text/plain": [
       "      type             datetime  post_id         subreddit  \\\n",
       "0  comment  2025-04-11 17:29:56  mmli62w    wallstreetbets   \n",
       "1  comment   2025-04-12 1:12:19  mmnu7v9    wallstreetbets   \n",
       "2  comment  2025-04-10 15:09:41  mmeevio       StockMarket   \n",
       "3     post  2023-08-30 17:12:55  165kllm  stockstobuytoday   \n",
       "4  comment  2025-04-11 14:48:05  mmkl6bw       StockMarket   \n",
       "\n",
       "                                               title                author  \\\n",
       "0    Retardation is on the menu boys! WSB is so back          StickyTip420   \n",
       "1  Retail giant TARGET has now declined for 10 co...  Comfortable-Dog-8437   \n",
       "2  How do you feel about a sitting president maki...          Btankersly66   \n",
       "3                              Who knows more? $VMAR             emiljenfn   \n",
       "4  The Trump administration is begging Xi Jinping...          Just-Big6411   \n",
       "\n",
       "                                                 url  upvotes  downvotes  \\\n",
       "0               https://i.redd.it/0yq2ftren8ue1.jpeg        0        NaN   \n",
       "1               https://i.redd.it/7tl6puv9waue1.jpeg      -15        NaN   \n",
       "2  https://apnews.com/article/trump-truth-social-...        1        NaN   \n",
       "3  https://www.reddit.com/r/stockstobuytoday/comm...       30        0.0   \n",
       "4  https://edition.cnn.com/2025/04/10/politics/tr...        1        NaN   \n",
       "\n",
       "   upvote_ratio                                               text  \\\n",
       "0           NaN                                   Calls on retards   \n",
       "1           NaN  Stunt as in like why did they even make a big ...   \n",
       "2           NaN                  Seeing lots of red in the ticker.   \n",
       "3          0.98  Vision Marine Technologies Inc. is rewriting t...   \n",
       "4           NaN                           He didn’t say thank you.   \n",
       "\n",
       "   subjectivity  polarity  sentiment  \\\n",
       "0      1.000000 -0.900000       -1.0   \n",
       "1      0.177778  0.083333        1.0   \n",
       "2      0.000000  0.000000        0.0   \n",
       "3      0.646970  0.216383        1.0   \n",
       "4      0.000000  0.000000        0.0   \n",
       "\n",
       "                                            entities  label  \n",
       "0                                                 []   -1.0  \n",
       "1              ['Stunt', 'company', 'deal', 'place']    0.0  \n",
       "2                                         ['ticker']    0.0  \n",
       "3  ['watercraft', 'skill', 'power', ']', 'feat', ...    1.0  \n",
       "4                                                 []   -1.0  "
      ]
     },
     "metadata": {},
     "output_type": "display_data"
    }
   ],
   "source": [
    "# 載入資料集 (Load dataset)\n",
    "from pathlib import Path\n",
    "import pandas as pd\n",
    "\n",
    "csv_rel = Path(\"newdataset/Reddit-stock-sentiment.csv\")\n",
    "\n",
    "df = pd.read_csv(csv_rel, encoding='utf-8')\n",
    "\n",
    "print('Loaded dataframe shape:', df.shape)\n",
    "display(df.head())\n"
   ]
  },
  {
   "cell_type": "code",
   "execution_count": 3,
   "metadata": {},
   "outputs": [
    {
     "name": "stdout",
     "output_type": "stream",
     "text": [
      "Selected columns: ['text', 'label', 'subreddit', 'type']\n",
      "df_new shape: (847, 4)\n"
     ]
    },
    {
     "data": {
      "text/html": [
       "<div>\n",
       "<style scoped>\n",
       "    .dataframe tbody tr th:only-of-type {\n",
       "        vertical-align: middle;\n",
       "    }\n",
       "\n",
       "    .dataframe tbody tr th {\n",
       "        vertical-align: top;\n",
       "    }\n",
       "\n",
       "    .dataframe thead th {\n",
       "        text-align: right;\n",
       "    }\n",
       "</style>\n",
       "<table border=\"1\" class=\"dataframe\">\n",
       "  <thead>\n",
       "    <tr style=\"text-align: right;\">\n",
       "      <th></th>\n",
       "      <th>text</th>\n",
       "      <th>label</th>\n",
       "      <th>subreddit</th>\n",
       "      <th>type</th>\n",
       "    </tr>\n",
       "  </thead>\n",
       "  <tbody>\n",
       "    <tr>\n",
       "      <th>0</th>\n",
       "      <td>Calls on retards</td>\n",
       "      <td>-1.0</td>\n",
       "      <td>wallstreetbets</td>\n",
       "      <td>comment</td>\n",
       "    </tr>\n",
       "    <tr>\n",
       "      <th>1</th>\n",
       "      <td>Stunt as in like why did they even make a big ...</td>\n",
       "      <td>0.0</td>\n",
       "      <td>wallstreetbets</td>\n",
       "      <td>comment</td>\n",
       "    </tr>\n",
       "    <tr>\n",
       "      <th>2</th>\n",
       "      <td>Seeing lots of red in the ticker.</td>\n",
       "      <td>0.0</td>\n",
       "      <td>StockMarket</td>\n",
       "      <td>comment</td>\n",
       "    </tr>\n",
       "    <tr>\n",
       "      <th>3</th>\n",
       "      <td>Vision Marine Technologies Inc. is rewriting t...</td>\n",
       "      <td>1.0</td>\n",
       "      <td>stockstobuytoday</td>\n",
       "      <td>post</td>\n",
       "    </tr>\n",
       "    <tr>\n",
       "      <th>4</th>\n",
       "      <td>He didn’t say thank you.</td>\n",
       "      <td>-1.0</td>\n",
       "      <td>StockMarket</td>\n",
       "      <td>comment</td>\n",
       "    </tr>\n",
       "  </tbody>\n",
       "</table>\n",
       "</div>"
      ],
      "text/plain": [
       "                                                text  label         subreddit  \\\n",
       "0                                   Calls on retards   -1.0    wallstreetbets   \n",
       "1  Stunt as in like why did they even make a big ...    0.0    wallstreetbets   \n",
       "2                  Seeing lots of red in the ticker.    0.0       StockMarket   \n",
       "3  Vision Marine Technologies Inc. is rewriting t...    1.0  stockstobuytoday   \n",
       "4                           He didn’t say thank you.   -1.0       StockMarket   \n",
       "\n",
       "      type  \n",
       "0  comment  \n",
       "1  comment  \n",
       "2  comment  \n",
       "3     post  \n",
       "4  comment  "
      ]
     },
     "metadata": {},
     "output_type": "display_data"
    }
   ],
   "source": [
    "# 提取我要的欄位 (Select desired columns)\n",
    "cols = [\"text\", \"label\", \"subreddit\", \"type\"]\n",
    "df_new = df[cols].copy()\n",
    "\n",
    "print(\"Selected columns:\", cols)\n",
    "print(\"df_new shape:\", df_new.shape)\n",
    "display(df_new.head())\n"
   ]
  },
  {
   "cell_type": "markdown",
   "metadata": {},
   "source": [
    "### **>>> Exercise 1 (Watch Video):**  \n",
    "In this exercise, please print out the *text* data for the first three samples in the dataset. \n",
    "\n",
    "### **>>> 練習 1 (觀看影片):**\n",
    "在這個練習中，請印出資料集裡前三個樣本的*文字*資料。"
   ]
  },
  {
   "cell_type": "code",
   "execution_count": 4,
   "metadata": {},
   "outputs": [
    {
     "name": "stdout",
     "output_type": "stream",
     "text": [
      "Calls on retards\n",
      "Stunt as in like why did they even make a big deal about starting it in the first place? No company should ever talk about politics ever.\n",
      "Seeing lots of red in the ticker.\n"
     ]
    }
   ],
   "source": [
    "\n",
    "print(\"\\n\".join(df_new[\"text\"][0:3]))\n"
   ]
  },
  {
   "cell_type": "markdown",
   "metadata": {},
   "source": [
    "## 2. Data Preparation"
   ]
  },
  {
   "cell_type": "markdown",
   "metadata": {},
   "source": [
    "### **>>> Exercise 2 (take home):** \n",
    "Experiment with other querying techniques using pandas dataframes. Refer to their [documentation](https://pandas.pydata.org/pandas-docs/stable/indexing.html) for more information. \n",
    "\n",
    "使用 pandas dataframes 實驗其他查詢技術。請參閱他們的文件以獲取更多資訊。"
   ]
  },
  {
   "cell_type": "code",
   "execution_count": 5,
   "metadata": {},
   "outputs": [
    {
     "name": "stdout",
     "output_type": "stream",
     "text": [
      "\n",
      "---1---\n",
      "\n",
      "text         Calls on retards\n",
      "label                    -1.0\n",
      "subreddit      wallstreetbets\n",
      "type                  comment\n",
      "Name: 0, dtype: object\n",
      "\n",
      "---2---\n",
      "\n",
      "                                                text  label\n",
      "0                                   Calls on retards   -1.0\n",
      "1  Stunt as in like why did they even make a big ...    0.0\n",
      "2                  Seeing lots of red in the ticker.    0.0\n",
      "\n",
      "---3---\n",
      "\n",
      "text         Calls on retards\n",
      "label                    -1.0\n",
      "subreddit      wallstreetbets\n",
      "type                  comment\n",
      "Name: 0, dtype: object\n",
      "\n",
      "---4---\n",
      "\n",
      "   label                                               text\n",
      "0   -1.0                                   Calls on retards\n",
      "1    0.0  Stunt as in like why did they even make a big ...\n",
      "2    0.0                  Seeing lots of red in the ticker.\n",
      "\n",
      "---5---\n",
      "\n",
      "   label                                               text\n",
      "0   -1.0                                   Calls on retards\n",
      "1    0.0  Stunt as in like why did they even make a big ...\n",
      "2    0.0                  Seeing lots of red in the ticker.\n"
     ]
    }
   ],
   "source": [
    "#Answer here\n",
    "print(\"\\n---1---\\n\")\n",
    "print(df_new.iloc[0])\n",
    "print(\"\\n---2---\\n\")\n",
    "print(df_new.iloc[0:3, 0:2])\n",
    "print(\"\\n---3---\\n\")\n",
    "print(df_new.loc[0])\n",
    "print(\"\\n---4---\\n\")\n",
    "print(df_new.iloc[0:3][['label','text']])\n",
    "print(\"\\n---5---\\n\")\n",
    "print(df_new.loc[0:2, ['label', 'text']])"
   ]
  },
  {
   "cell_type": "markdown",
   "metadata": {},
   "source": [
    "### **>>> Exercise 3 (Watch Video):**  \n",
    "Try to fetch records belonging to the ```post`` category, and query every 10th record. Only show the first 5 records.\n",
    "\n",
    "### **>>> 練習 3 (觀看影片)：**\n",
    "嘗試取得屬於「post」類別的記錄，並每10筆記錄查詢一次。僅顯示前5筆記錄。"
   ]
  },
  {
   "cell_type": "code",
   "execution_count": 6,
   "metadata": {},
   "outputs": [
    {
     "data": {
      "text/html": [
       "<div>\n",
       "<style scoped>\n",
       "    .dataframe tbody tr th:only-of-type {\n",
       "        vertical-align: middle;\n",
       "    }\n",
       "\n",
       "    .dataframe tbody tr th {\n",
       "        vertical-align: top;\n",
       "    }\n",
       "\n",
       "    .dataframe thead th {\n",
       "        text-align: right;\n",
       "    }\n",
       "</style>\n",
       "<table border=\"1\" class=\"dataframe\">\n",
       "  <thead>\n",
       "    <tr style=\"text-align: right;\">\n",
       "      <th></th>\n",
       "      <th>text</th>\n",
       "      <th>label</th>\n",
       "      <th>subreddit</th>\n",
       "      <th>type</th>\n",
       "    </tr>\n",
       "  </thead>\n",
       "  <tbody>\n",
       "    <tr>\n",
       "      <th>3</th>\n",
       "      <td>Vision Marine Technologies Inc. is rewriting t...</td>\n",
       "      <td>1.0</td>\n",
       "      <td>stockstobuytoday</td>\n",
       "      <td>post</td>\n",
       "    </tr>\n",
       "    <tr>\n",
       "      <th>165</th>\n",
       "      <td>Stock list generated from technical Analysis. ...</td>\n",
       "      <td>0.0</td>\n",
       "      <td>stockstobuytoday</td>\n",
       "      <td>post</td>\n",
       "    </tr>\n",
       "    <tr>\n",
       "      <th>332</th>\n",
       "      <td>Mostly in MSTR calls, AAPL puts and GBTC long.</td>\n",
       "      <td>1.0</td>\n",
       "      <td>wallstreetbets</td>\n",
       "      <td>post</td>\n",
       "    </tr>\n",
       "    <tr>\n",
       "      <th>421</th>\n",
       "      <td>Stocks that are trending up today\\r\\n\\r\\n [Pop...</td>\n",
       "      <td>0.0</td>\n",
       "      <td>stockstobuytoday</td>\n",
       "      <td>post</td>\n",
       "    </tr>\n",
       "    <tr>\n",
       "      <th>487</th>\n",
       "      <td>Good Morning Investors, \\r\\n\\r\\nI am a young F...</td>\n",
       "      <td>0.0</td>\n",
       "      <td>stockstobuytoday</td>\n",
       "      <td>post</td>\n",
       "    </tr>\n",
       "  </tbody>\n",
       "</table>\n",
       "</div>"
      ],
      "text/plain": [
       "                                                  text  label  \\\n",
       "3    Vision Marine Technologies Inc. is rewriting t...    1.0   \n",
       "165  Stock list generated from technical Analysis. ...    0.0   \n",
       "332     Mostly in MSTR calls, AAPL puts and GBTC long.    1.0   \n",
       "421  Stocks that are trending up today\\r\\n\\r\\n [Pop...    0.0   \n",
       "487  Good Morning Investors, \\r\\n\\r\\nI am a young F...    0.0   \n",
       "\n",
       "            subreddit  type  \n",
       "3    stockstobuytoday  post  \n",
       "165  stockstobuytoday  post  \n",
       "332    wallstreetbets  post  \n",
       "421  stockstobuytoday  post  \n",
       "487  stockstobuytoday  post  "
      ]
     },
     "execution_count": 6,
     "metadata": {},
     "output_type": "execute_result"
    }
   ],
   "source": [
    "# Answer here\n",
    "df_new[df_new[\"type\"] == \"post\"][::10][0:5]\n",
    "        "
   ]
  },
  {
   "cell_type": "markdown",
   "metadata": {},
   "source": [
    "### 4.1 Missing Values"
   ]
  },
  {
   "cell_type": "code",
   "execution_count": 7,
   "metadata": {},
   "outputs": [
    {
     "data": {
      "text/html": [
       "<div>\n",
       "<style scoped>\n",
       "    .dataframe tbody tr th:only-of-type {\n",
       "        vertical-align: middle;\n",
       "    }\n",
       "\n",
       "    .dataframe tbody tr th {\n",
       "        vertical-align: top;\n",
       "    }\n",
       "\n",
       "    .dataframe thead th {\n",
       "        text-align: right;\n",
       "    }\n",
       "</style>\n",
       "<table border=\"1\" class=\"dataframe\">\n",
       "  <thead>\n",
       "    <tr style=\"text-align: right;\">\n",
       "      <th></th>\n",
       "      <th>text</th>\n",
       "      <th>label</th>\n",
       "      <th>subreddit</th>\n",
       "      <th>type</th>\n",
       "    </tr>\n",
       "  </thead>\n",
       "  <tbody>\n",
       "    <tr>\n",
       "      <th>0</th>\n",
       "      <td>False</td>\n",
       "      <td>False</td>\n",
       "      <td>False</td>\n",
       "      <td>False</td>\n",
       "    </tr>\n",
       "    <tr>\n",
       "      <th>1</th>\n",
       "      <td>False</td>\n",
       "      <td>False</td>\n",
       "      <td>False</td>\n",
       "      <td>False</td>\n",
       "    </tr>\n",
       "    <tr>\n",
       "      <th>2</th>\n",
       "      <td>False</td>\n",
       "      <td>False</td>\n",
       "      <td>False</td>\n",
       "      <td>False</td>\n",
       "    </tr>\n",
       "    <tr>\n",
       "      <th>3</th>\n",
       "      <td>False</td>\n",
       "      <td>False</td>\n",
       "      <td>False</td>\n",
       "      <td>False</td>\n",
       "    </tr>\n",
       "    <tr>\n",
       "      <th>4</th>\n",
       "      <td>False</td>\n",
       "      <td>False</td>\n",
       "      <td>False</td>\n",
       "      <td>False</td>\n",
       "    </tr>\n",
       "    <tr>\n",
       "      <th>...</th>\n",
       "      <td>...</td>\n",
       "      <td>...</td>\n",
       "      <td>...</td>\n",
       "      <td>...</td>\n",
       "    </tr>\n",
       "    <tr>\n",
       "      <th>842</th>\n",
       "      <td>False</td>\n",
       "      <td>False</td>\n",
       "      <td>False</td>\n",
       "      <td>False</td>\n",
       "    </tr>\n",
       "    <tr>\n",
       "      <th>843</th>\n",
       "      <td>False</td>\n",
       "      <td>False</td>\n",
       "      <td>False</td>\n",
       "      <td>False</td>\n",
       "    </tr>\n",
       "    <tr>\n",
       "      <th>844</th>\n",
       "      <td>False</td>\n",
       "      <td>False</td>\n",
       "      <td>False</td>\n",
       "      <td>False</td>\n",
       "    </tr>\n",
       "    <tr>\n",
       "      <th>845</th>\n",
       "      <td>False</td>\n",
       "      <td>False</td>\n",
       "      <td>False</td>\n",
       "      <td>False</td>\n",
       "    </tr>\n",
       "    <tr>\n",
       "      <th>846</th>\n",
       "      <td>False</td>\n",
       "      <td>False</td>\n",
       "      <td>False</td>\n",
       "      <td>False</td>\n",
       "    </tr>\n",
       "  </tbody>\n",
       "</table>\n",
       "<p>847 rows × 4 columns</p>\n",
       "</div>"
      ],
      "text/plain": [
       "      text  label  subreddit   type\n",
       "0    False  False      False  False\n",
       "1    False  False      False  False\n",
       "2    False  False      False  False\n",
       "3    False  False      False  False\n",
       "4    False  False      False  False\n",
       "..     ...    ...        ...    ...\n",
       "842  False  False      False  False\n",
       "843  False  False      False  False\n",
       "844  False  False      False  False\n",
       "845  False  False      False  False\n",
       "846  False  False      False  False\n",
       "\n",
       "[847 rows x 4 columns]"
      ]
     },
     "execution_count": 7,
     "metadata": {},
     "output_type": "execute_result"
    }
   ],
   "source": [
    "# check missing values \n",
    "# This returns a boolean DataFrame showing True for missing cells.\n",
    "df_new.isnull()\n"
   ]
  },
  {
   "cell_type": "markdown",
   "metadata": {},
   "source": [
    "### >>> **Exercise 4 (Watch Video):** \n",
    "Let's try something different. Instead of calculating missing values by column let's try to calculate the missing values in every record instead of every column.  \n",
    "$Hint$ : `axis` parameter. Check the documentation for more information.\n",
    "\n",
    "### >>> **練習 4（觀看影片）：**\n",
    "讓我們來嘗試一些不同的方法。我們不再逐列計算缺失值，而是嘗試計算每筆記錄（而不是每列）的缺失值。\n",
    "$提示$：`axis` 參數。查看文件以了解更多資訊。"
   ]
  },
  {
   "cell_type": "code",
   "execution_count": 8,
   "metadata": {},
   "outputs": [
    {
     "data": {
      "text/html": [
       "<div>\n",
       "<style scoped>\n",
       "    .dataframe tbody tr th:only-of-type {\n",
       "        vertical-align: middle;\n",
       "    }\n",
       "\n",
       "    .dataframe tbody tr th {\n",
       "        vertical-align: top;\n",
       "    }\n",
       "\n",
       "    .dataframe thead th {\n",
       "        text-align: right;\n",
       "    }\n",
       "</style>\n",
       "<table border=\"1\" class=\"dataframe\">\n",
       "  <thead>\n",
       "    <tr style=\"text-align: right;\">\n",
       "      <th></th>\n",
       "      <th>text</th>\n",
       "      <th>label</th>\n",
       "      <th>subreddit</th>\n",
       "      <th>type</th>\n",
       "    </tr>\n",
       "  </thead>\n",
       "  <tbody>\n",
       "    <tr>\n",
       "      <th>0</th>\n",
       "      <td>The amoung of missing records is:</td>\n",
       "      <td>The amoung of missing records is:</td>\n",
       "      <td>The amoung of missing records is:</td>\n",
       "      <td>The amoung of missing records is:</td>\n",
       "    </tr>\n",
       "    <tr>\n",
       "      <th>1</th>\n",
       "      <td>0</td>\n",
       "      <td>0</td>\n",
       "      <td>0</td>\n",
       "      <td>0</td>\n",
       "    </tr>\n",
       "  </tbody>\n",
       "</table>\n",
       "</div>"
      ],
      "text/plain": [
       "                                 text                               label  \\\n",
       "0  The amoung of missing records is:   The amoung of missing records is:    \n",
       "1                                   0                                   0   \n",
       "\n",
       "                            subreddit                                type  \n",
       "0  The amoung of missing records is:   The amoung of missing records is:   \n",
       "1                                   0                                   0  "
      ]
     },
     "execution_count": 8,
     "metadata": {},
     "output_type": "execute_result"
    }
   ],
   "source": [
    "import helpers.ego_data_mining_helpers as dmh\n",
    "df_new.isnull().apply(lambda x: dmh.check_missing_values(x))"
   ]
  },
  {
   "cell_type": "code",
   "execution_count": 9,
   "metadata": {},
   "outputs": [
    {
     "data": {
      "text/html": [
       "<div>\n",
       "<style scoped>\n",
       "    .dataframe tbody tr th:only-of-type {\n",
       "        vertical-align: middle;\n",
       "    }\n",
       "\n",
       "    .dataframe tbody tr th {\n",
       "        vertical-align: top;\n",
       "    }\n",
       "\n",
       "    .dataframe thead th {\n",
       "        text-align: right;\n",
       "    }\n",
       "</style>\n",
       "<table border=\"1\" class=\"dataframe\">\n",
       "  <thead>\n",
       "    <tr style=\"text-align: right;\">\n",
       "      <th></th>\n",
       "      <th>text</th>\n",
       "      <th>label</th>\n",
       "      <th>subreddit</th>\n",
       "      <th>type</th>\n",
       "      <th>label_name</th>\n",
       "    </tr>\n",
       "  </thead>\n",
       "  <tbody>\n",
       "    <tr>\n",
       "      <th>0</th>\n",
       "      <td>Calls on retards</td>\n",
       "      <td>-1.0</td>\n",
       "      <td>wallstreetbets</td>\n",
       "      <td>comment</td>\n",
       "      <td>Negative</td>\n",
       "    </tr>\n",
       "    <tr>\n",
       "      <th>1</th>\n",
       "      <td>Stunt as in like why did they even make a big ...</td>\n",
       "      <td>0.0</td>\n",
       "      <td>wallstreetbets</td>\n",
       "      <td>comment</td>\n",
       "      <td>Neutral</td>\n",
       "    </tr>\n",
       "    <tr>\n",
       "      <th>2</th>\n",
       "      <td>Seeing lots of red in the ticker.</td>\n",
       "      <td>0.0</td>\n",
       "      <td>StockMarket</td>\n",
       "      <td>comment</td>\n",
       "      <td>Neutral</td>\n",
       "    </tr>\n",
       "    <tr>\n",
       "      <th>3</th>\n",
       "      <td>Vision Marine Technologies Inc. is rewriting t...</td>\n",
       "      <td>1.0</td>\n",
       "      <td>stockstobuytoday</td>\n",
       "      <td>post</td>\n",
       "      <td>Positive</td>\n",
       "    </tr>\n",
       "    <tr>\n",
       "      <th>4</th>\n",
       "      <td>He didn’t say thank you.</td>\n",
       "      <td>-1.0</td>\n",
       "      <td>StockMarket</td>\n",
       "      <td>comment</td>\n",
       "      <td>Negative</td>\n",
       "    </tr>\n",
       "  </tbody>\n",
       "</table>\n",
       "</div>"
      ],
      "text/plain": [
       "                                                text  label         subreddit  \\\n",
       "0                                   Calls on retards   -1.0    wallstreetbets   \n",
       "1  Stunt as in like why did they even make a big ...    0.0    wallstreetbets   \n",
       "2                  Seeing lots of red in the ticker.    0.0       StockMarket   \n",
       "3  Vision Marine Technologies Inc. is rewriting t...    1.0  stockstobuytoday   \n",
       "4                           He didn’t say thank you.   -1.0       StockMarket   \n",
       "\n",
       "      type label_name  \n",
       "0  comment   Negative  \n",
       "1  comment    Neutral  \n",
       "2  comment    Neutral  \n",
       "3     post   Positive  \n",
       "4  comment   Negative  "
      ]
     },
     "execution_count": 9,
     "metadata": {},
     "output_type": "execute_result"
    }
   ],
   "source": [
    "# 新增欄位 'label_name'，將數值標籤轉換為文字標籤\n",
    "# Add 'label_name' column: map numeric labels to textual labels\n",
    "label_mapping = {\n",
    "    1.0: 'Positive',\n",
    "    0.0: 'Neutral',\n",
    "    -1.0: 'Negative'\n",
    "}\n",
    "df_new['label_name'] = df_new['label'].map(label_mapping)\n",
    "\n",
    "df_new.head()\n"
   ]
  },
  {
   "cell_type": "markdown",
   "metadata": {},
   "source": [
    "### >>> Exercise 6 :\n",
    "I sample my new dataset\n",
    "### >>> 練習 6（帶回家）：\n",
    "我對我的新資料集進行抽樣"
   ]
  },
  {
   "cell_type": "markdown",
   "metadata": {},
   "source": []
  },
  {
   "cell_type": "code",
   "execution_count": 10,
   "metadata": {},
   "outputs": [
    {
     "data": {
      "text/plain": [
       "847"
      ]
     },
     "execution_count": 10,
     "metadata": {},
     "output_type": "execute_result"
    }
   ],
   "source": [
    "len(df_new)"
   ]
  },
  {
   "cell_type": "code",
   "execution_count": 11,
   "metadata": {},
   "outputs": [
    {
     "name": "stdout",
     "output_type": "stream",
     "text": [
      "500\n",
      "                                                  text  label  \\\n",
      "201  I wouldn't call it denial but not knowing wher...   -1.0   \n",
      "273  Wild that people are praising China, and talki...   -1.0   \n",
      "529         AERC super low float could rip any day now    0.0   \n",
      "387  This data is from FINRA ATS - Updated Weekly\\r...    0.0   \n",
      "\n",
      "            subreddit     type label_name  \n",
      "201            stocks  comment   Negative  \n",
      "273       StockMarket  comment   Negative  \n",
      "529  stockstobuytoday  comment    Neutral  \n",
      "387  stockstobuytoday     post    Neutral  \n"
     ]
    }
   ],
   "source": [
    "df_new_sample = df_new.sample(n=500) \n",
    "print(len(df_new_sample))\n",
    "print(df_new_sample[0:4])"
   ]
  },
  {
   "cell_type": "markdown",
   "metadata": {},
   "source": [
    "### >>> **Exercise 7 (Watch Video):**\n",
    "Notice that for the `ylim` parameters we hardcoded the maximum value for y. Is it possible to automate this instead of hard-coding it? How would you go about doing that? (Hint: look at code above for clues)\n",
    "\n",
    "### >>> **練習 7（觀看影片）：**\n",
    "請注意，對於 `ylim` 參數，我們硬編碼了 y 的最大值。是否可以將其自動化，而不是硬編碼？你會怎麼做？ （提示：查看上面的程式碼尋找線索）"
   ]
  },
  {
   "cell_type": "code",
   "execution_count": 12,
   "metadata": {},
   "outputs": [
    {
     "data": {
      "text/plain": [
       "<Axes: title={'center': 'Category distribution'}, xlabel='label_name'>"
      ]
     },
     "execution_count": 12,
     "metadata": {},
     "output_type": "execute_result"
    },
    {
     "data": {
      "image/png": "[encoded data removed]",
      "text/plain": [
       "<Figure size 800x300 with 1 Axes>"
      ]
     },
     "metadata": {},
     "output_type": "display_data"
    }
   ],
   "source": [
    "import matplotlib.pyplot as plt\n",
    "%matplotlib inline\n",
    "\n",
    "# Answer here\n",
    "df_new_sample.label_name.value_counts().plot(kind='bar',\n",
    "                                       title='Category distribution',\n",
    "                                       ylim=[0, df_new_sample.label_name.value_counts().max()+30],\n",
    "                                       rot=0, fontsize=12, figsize=(8,3))"
   ]
  },
  {
   "cell_type": "markdown",
   "metadata": {},
   "source": [
    "### >>> **Exercise 8 (take home):** \n",
    "We can also do a side-by-side comparison of the distribution between the two datasets, but maybe you can try that as an excerise. Below we show you an snapshot of the type of chart we are looking for. \n",
    "\n",
    "### >>> **練習 8（帶回家）：**\n",
    "我們也可以並排比較兩個資料集的分佈情況，但你可以把它當作練習來嘗試。下面我們展示了我們想要的圖表類型的快照。"
   ]
  },
  {
   "cell_type": "code",
   "execution_count": 13,
   "metadata": {},
   "outputs": [
    {
     "data": {
      "text/plain": [
       "<Axes: title={'center': 'Category distribution'}>"
      ]
     },
     "execution_count": 13,
     "metadata": {},
     "output_type": "execute_result"
    },
    {
     "data": {
      "image/png": "[encoded data removed]",
      "text/plain": [
       "<Figure size 800x500 with 1 Axes>"
      ]
     },
     "metadata": {},
     "output_type": "display_data"
    }
   ],
   "source": [
    "# Answer here\n",
    "\n",
    "vc_X = df_new.label_name.value_counts()\n",
    "vc_X_sample = df_new_sample.label_name.value_counts()\n",
    "\n",
    "df_cat = pd.concat([vc_X, vc_X_sample], axis=1)\n",
    "\n",
    "df_cat.columns = ['df_new', 'df_new_sample']\n",
    "\n",
    "\n",
    "df_cat.plot(kind='bar',\n",
    "            title='Category distribution',\n",
    "            xlabel='',\n",
    "            ylim=[0, max(df_cat.max())+30],\n",
    "            rot=0, fontsize=12, figsize=(8,5))\n"
   ]
  },
  {
   "cell_type": "code",
   "execution_count": 14,
   "metadata": {},
   "outputs": [
    {
     "name": "stderr",
     "output_type": "stream",
     "text": [
      "[nltk_data] Downloading package punkt to\n",
      "[nltk_data]     C:\\Users\\Ego\\AppData\\Roaming\\nltk_data...\n",
      "[nltk_data]   Package punkt is already up-to-date!\n"
     ]
    },
    {
     "data": {
      "text/plain": [
       "0                                 [Calls, on, retards]\n",
       "1    [Stunt, as, in, like, why, did, they, even, ma...\n",
       "2          [Seeing, lots, of, red, in, the, ticker, .]\n",
       "3    [Vision, Marine, Technologies, Inc., is, rewri...\n",
       "Name: unigrams, dtype: object"
      ]
     },
     "execution_count": 14,
     "metadata": {},
     "output_type": "execute_result"
    }
   ],
   "source": [
    "# 5.2 Feature Creation (特徵建立)\n",
    "\n",
    "import nltk\n",
    "nltk.download(\"punkt\")\n",
    "\n",
    "\n",
    "df_new['unigrams'] = df_new['text'].apply(lambda x: dmh.tokenize_text(x))\n",
    "\n",
    "df_new[0:4][\"unigrams\"]\n"
   ]
  },
  {
   "cell_type": "code",
   "execution_count": 15,
   "metadata": {},
   "outputs": [
    {
     "name": "stdout",
     "output_type": "stream",
     "text": [
      "  (np.int32(0), np.int32(692))\t1\n",
      "  (np.int32(0), np.int32(2706))\t1\n",
      "  (np.int32(0), np.int32(3248))\t1\n"
     ]
    }
   ],
   "source": [
    "# 5.3 特徵子集選擇 (Feature subset selection)\n",
    "\n",
    "from sklearn.feature_extraction.text import CountVectorizer\n",
    "\n",
    "count_vect = CountVectorizer()\n",
    "df_counts = count_vect.fit_transform(df_new.text)\n",
    "print(df_counts[0])\n"
   ]
  },
  {
   "cell_type": "code",
   "execution_count": 16,
   "metadata": {},
   "outputs": [
    {
     "data": {
      "text/plain": [
       "'calls'"
      ]
     },
     "execution_count": 16,
     "metadata": {},
     "output_type": "execute_result"
    }
   ],
   "source": [
    "count_vect.get_feature_names_out()[692]"
   ]
  },
  {
   "cell_type": "markdown",
   "metadata": {},
   "source": [
    "### **>>> Exercise 9 (Watch Video):**\n",
    "Let's analyze the first record of our X dataframe with the new analyzer we have just built. Go ahead try it!\n",
    "\n",
    "### **>>> 練習 9（觀看影片）：**\n",
    "讓我們用剛剛建置的新分析器分析 X dataframe的第一筆記錄。快來嘗試一下吧！"
   ]
  },
  {
   "cell_type": "code",
   "execution_count": 17,
   "metadata": {},
   "outputs": [
    {
     "data": {
      "text/plain": [
       "['calls', 'on', 'retards']"
      ]
     },
     "execution_count": 17,
     "metadata": {},
     "output_type": "execute_result"
    }
   ],
   "source": [
    "analyze = count_vect.build_analyzer()\n",
    "\n",
    "analyze(df_new.text[0])"
   ]
  },
  {
   "cell_type": "code",
   "execution_count": 18,
   "metadata": {},
   "outputs": [
    {
     "data": {
      "text/plain": [
       "(847, 4346)"
      ]
     },
     "execution_count": 18,
     "metadata": {},
     "output_type": "execute_result"
    }
   ],
   "source": [
    "df_counts.shape"
   ]
  },
  {
   "cell_type": "code",
   "execution_count": 19,
   "metadata": {},
   "outputs": [
    {
     "data": {
      "text/plain": [
       "array(['00', '000', '01378', '02', '027', '03', '06', '08', '10', '100'],\n",
       "      dtype=object)"
      ]
     },
     "execution_count": 19,
     "metadata": {},
     "output_type": "execute_result"
    }
   ],
   "source": [
    "count_vect.get_feature_names_out()[0:10]"
   ]
  },
  {
   "cell_type": "code",
   "execution_count": 20,
   "metadata": {},
   "outputs": [
    {
     "data": {
      "text/plain": [
       "array([[0, 0, 0, 0, 0, 0, 0, 0, 0, 0, 0, 0, 0, 0, 0, 0, 0, 0, 0, 0, 0, 0,\n",
       "        0, 0, 0, 0, 0, 0, 0, 0, 0, 0, 0, 0, 0, 0, 0, 0, 0, 0, 0, 0, 0, 0,\n",
       "        0, 0, 0, 0, 0, 0, 0, 0, 0, 0, 0, 0, 0, 0, 0, 0, 0, 0, 0, 0, 0, 0,\n",
       "        0, 0, 0, 0, 0, 0, 0, 0, 0, 0, 0, 0, 0, 0, 0, 0, 0, 0, 0, 0, 0, 0,\n",
       "        0, 0, 0, 0, 0, 0, 0, 0, 0, 0, 0, 0],\n",
       "       [0, 0, 0, 0, 0, 0, 0, 0, 0, 0, 0, 0, 0, 0, 0, 0, 0, 0, 0, 0, 0, 0,\n",
       "        0, 0, 0, 0, 0, 0, 0, 0, 0, 0, 0, 0, 0, 0, 0, 0, 0, 0, 0, 0, 0, 0,\n",
       "        0, 0, 0, 0, 0, 0, 0, 0, 0, 0, 0, 0, 0, 0, 0, 0, 0, 0, 0, 0, 0, 0,\n",
       "        0, 0, 0, 0, 0, 0, 0, 0, 0, 0, 0, 0, 0, 0, 0, 0, 0, 0, 0, 0, 0, 0,\n",
       "        0, 0, 0, 0, 0, 0, 0, 0, 0, 0, 0, 0],\n",
       "       [0, 0, 0, 0, 0, 0, 0, 0, 0, 0, 0, 0, 0, 0, 0, 0, 0, 0, 0, 0, 0, 0,\n",
       "        0, 0, 0, 0, 0, 0, 0, 0, 0, 0, 0, 0, 0, 0, 0, 0, 0, 0, 0, 0, 0, 0,\n",
       "        0, 0, 0, 0, 0, 0, 0, 0, 0, 0, 0, 0, 0, 0, 0, 0, 0, 0, 0, 0, 0, 0,\n",
       "        0, 0, 0, 0, 0, 0, 0, 0, 0, 0, 0, 0, 0, 0, 0, 0, 0, 0, 0, 0, 0, 0,\n",
       "        0, 0, 0, 0, 0, 0, 0, 0, 0, 0, 0, 0],\n",
       "       [0, 0, 0, 0, 0, 0, 0, 0, 0, 0, 0, 0, 0, 0, 0, 0, 0, 0, 0, 0, 0, 0,\n",
       "        0, 0, 0, 0, 0, 0, 0, 0, 0, 0, 0, 0, 0, 0, 0, 0, 0, 0, 0, 0, 0, 0,\n",
       "        0, 0, 0, 0, 0, 0, 0, 0, 0, 0, 0, 0, 0, 0, 0, 0, 0, 0, 0, 0, 0, 0,\n",
       "        0, 0, 0, 0, 0, 0, 0, 0, 0, 0, 0, 0, 0, 0, 0, 0, 0, 0, 0, 0, 0, 0,\n",
       "        0, 0, 0, 0, 0, 0, 0, 0, 0, 0, 0, 0],\n",
       "       [0, 0, 0, 0, 0, 0, 0, 0, 1, 0, 0, 0, 0, 0, 0, 0, 0, 0, 0, 0, 0, 0,\n",
       "        0, 0, 0, 0, 0, 0, 0, 0, 0, 0, 0, 0, 0, 0, 0, 0, 0, 0, 0, 0, 0, 0,\n",
       "        0, 0, 0, 0, 0, 0, 0, 0, 0, 0, 0, 0, 0, 0, 0, 0, 0, 0, 0, 0, 0, 0,\n",
       "        0, 0, 0, 0, 0, 0, 0, 0, 0, 0, 0, 0, 0, 0, 0, 0, 0, 0, 0, 0, 0, 0,\n",
       "        0, 0, 0, 0, 0, 0, 0, 0, 0, 0, 0, 0]])"
      ]
     },
     "execution_count": 20,
     "metadata": {},
     "output_type": "execute_result"
    }
   ],
   "source": [
    "df_counts[5:10, 0:100].toarray()"
   ]
  },
  {
   "cell_type": "markdown",
   "metadata": {},
   "source": [
    "### **>>> Exercise 10 (take home):**\n",
    "Since the first five files do not have a value of 1, I changed it to find the first value that is not 0.\n",
    "\n",
    "### **>>> 練習 10（帶回家）：**\n",
    "因為前五的文件都沒有1的值，因此我改變成找不第一個不為0的值\n"
   ]
  },
  {
   "cell_type": "code",
   "execution_count": 21,
   "metadata": {},
   "outputs": [
    {
     "name": "stdout",
     "output_type": "stream",
     "text": [
      "第9篇文章的詞頻向量： [0 0 0 ... 0 0 0]\n",
      "值不為 0 的位置索引： [   8  327  497  735 1912 1964 2149 2161 2543 2665 3463 3848 3911]\n",
      "對應的詞彙： ['10' 'and' 'before' 'catch' 'hlgn' 'hurry' 'is' 'it' 'moon' 'now'\n",
      " 'shoots' 'the' 'to']\n",
      "第一個不為0的值： 10\n",
      "The first non-zero value： 10\n"
     ]
    }
   ],
   "source": [
    "# Answer here\n",
    "import numpy as np\n",
    "\n",
    "# 選取第 i 篇文件的詞頻向量 (Take the term-frequency vector for document i)\n",
    "i = 9\n",
    "fifth_array = df_counts[i].toarray()[0]\n",
    "\n",
    "print(f\"第{i}篇文章的詞頻向量：\", fifth_array)\n",
    "\n",
    "\n",
    "indices_nozero = np.where(fifth_array != 0)[0]\n",
    "\n",
    "feature_names = count_vect.get_feature_names_out()\n",
    "\n",
    "word = feature_names[indices_nozero]\n",
    "\n",
    "print(\"值不為 0 的位置索引：\", indices_nozero)\n",
    "print(\"對應的詞彙：\", word)\n",
    "\n",
    "print(\"第一個不為0的值：\",word[0])\n",
    "print(\"The first non-zero value：\",word[0])\n",
    "\n"
   ]
  },
  {
   "cell_type": "markdown",
   "metadata": {},
   "source": [
    "### **>>> Exercise 11 (take home):** \n",
    "From the chart above, we can see how sparse the term-document matrix is; i.e., there is only one terms with **FREQUENCY** of `1` in the subselection of the matrix. By the way, you may have noticed that we only selected 20 articles and 20 terms to plot the histrogram. As an excersise you can try to modify the code above to plot the entire term-document matrix or just a sample of it. How would you do this efficiently? Remember there is a lot of words in the vocab. Report below what methods you would use to get a nice and useful visualization\n",
    "\n",
    "### **>>> 練習 11（帶回家）：**\n",
    "從上圖可以看出，詞條-文檔矩陣非常稀疏；也就是說，在矩陣的子選擇中，只有一個詞條的**頻率**為「1」。順便說一句，你可能注意到，我們只選擇了 20 篇文章和 20 個詞條來繪製直方圖。作為練習，你可以嘗試修改上面的程式碼，繪製整個詞條-文檔矩陣，或只繪製其中的一個樣本。如何有效率地做到這一點？記住，詞彙表中有很多單字。請在下方報告你會使用哪些方法來獲得美觀實用的視覺化效果。"
   ]
  },
  {
   "cell_type": "code",
   "execution_count": 22,
   "metadata": {},
   "outputs": [
    {
     "data": {
      "image/png": "[encoded data removed]",
      "text/plain": [
       "<Figure size 900x700 with 2 Axes>"
      ]
     },
     "metadata": {},
     "output_type": "display_data"
    },
    {
     "data": {
      "image/png": "[encoded data removed]",
      "text/plain": [
       "<Figure size 1000x800 with 1 Axes>"
      ]
     },
     "metadata": {},
     "output_type": "display_data"
    }
   ],
   "source": [
    "# Answer here\n",
    "import seaborn as sns\n",
    "\n",
    "\n",
    "sub_matrix = df_counts[0:20, :].toarray()  \n",
    "\n",
    "col_has_one = (sub_matrix == 1).any(axis=0) \n",
    "\n",
    "cols_with_one = np.where(col_has_one)[0][:20]\n",
    "\n",
    "plot_x = count_vect.get_feature_names_out()[cols_with_one] \n",
    "plot_y = [\"doc_\" + str(i) for i in list(df_new.index)[0:20]]\n",
    "\n",
    "plot_z = sub_matrix[:, cols_with_one]\n",
    "\n",
    "df_todraw = pd.DataFrame(plot_z, columns=plot_x, index=plot_y)\n",
    "plt.subplots(figsize=(9, 7))\n",
    "ax = sns.heatmap(df_todraw, cmap=\"PuRd\", vmin=0, vmax=8, annot=True)\n",
    "plt.title(\"Heatmap of the top 20 words that appear in 1 of the top 20 articles\")\n",
    "plt.show()\n",
    "\n",
    "word_counts = np.array(df_counts.sum(axis=0)).flatten()\n",
    "\n",
    "top_indices = word_counts.argsort()[-20:]\n",
    "\n",
    "top_words = count_vect.get_feature_names_out()[top_indices]\n",
    "top_counts = word_counts[top_indices]\n",
    "\n",
    "plt.figure(figsize=(10, 8))\n",
    "plt.barh(top_words, top_counts)\n",
    "plt.title(\"Top 20 Most Frequent Words\")\n",
    "plt.xlabel(\"Total Frequency\")\n",
    "plt.show()\n"
   ]
  },
  {
   "cell_type": "code",
   "execution_count": 23,
   "metadata": {},
   "outputs": [
    {
     "name": "stdout",
     "output_type": "stream",
     "text": [
      "4\n"
     ]
    },
    {
     "name": "stderr",
     "output_type": "stream",
     "text": [
      "C:\\Users\\Ego\\AppData\\Local\\Temp\\ipykernel_2520\\2657194456.py:10: UserWarning: set_ticklabels() should only be used with a fixed number of ticks, i.e. after set_ticks() or using a FixedLocator.\n",
      "  g.set_xticklabels(count_vect.get_feature_names_out()[:300], rotation = 90);\n"
     ]
    },
    {
     "data": {
      "image/png": "[encoded data removed]",
      "text/plain": [
       "<Figure size 10000x1000 with 1 Axes>"
      ]
     },
     "metadata": {},
     "output_type": "display_data"
    }
   ],
   "source": [
    "#  5.4.1 Transform Text Data (轉換文字資料)\n",
    "\n",
    "term_frequencies = np.asarray(df_counts.sum(axis=0))[0]\n",
    "\n",
    "print(term_frequencies[0])\n",
    "\n",
    "plt.subplots(figsize=(100, 10))\n",
    "g = sns.barplot(x=count_vect.get_feature_names_out()[:300], \n",
    "            y=term_frequencies[:300])\n",
    "g.set_xticklabels(count_vect.get_feature_names_out()[:300], rotation = 90);\n",
    "\n",
    "#[3, 8, 5, 2, 5, 8, 2, 5, 3, 2]\n"
   ]
  },
  {
   "cell_type": "markdown",
   "metadata": {},
   "source": [
    "### >>> **Exercise 12 (take home):**\n",
    "If you want a nicer interactive visualization here, I would encourage you try to install and use plotly to achieve this.\n",
    "\n",
    "### >>> **練習 12（帶回家）：**\n",
    "如果你想要一個更美觀的互動式視覺化效果，我鼓勵你嘗試安裝並使用 plotly 來實現。"
   ]
  },
  {
   "cell_type": "code",
   "execution_count": 24,
   "metadata": {},
   "outputs": [
    {
     "data": {
      "application/vnd.plotly.v1+json": {
       "config": {
        "plotlyServerURL": "https://plot.ly"
       },
       "data": [
        {
         "type": "bar",
         "x": [
          "00",
          "000",
          "01378",
          "02",
          "027",
          "03",
          "06",
          "08",
          "10",
          "100",
          "1000",
          "10000",
          "100k",
          "100x",
          "10k",
          "10ks",
          "10yr",
          "11",
          "116",
          "118",
          "12",
          "1242",
          "125",
          "12855584",
          "13",
          "14",
          "140",
          "145",
          "14th",
          "15",
          "150",
          "153",
          "15m",
          "16",
          "160",
          "17",
          "1700",
          "1728",
          "17th",
          "18",
          "186",
          "18630",
          "1870",
          "1934",
          "1945",
          "1947",
          "1953",
          "1961",
          "1969",
          "1973",
          "1974",
          "1981",
          "1992",
          "1999",
          "1k",
          "1m",
          "20",
          "200",
          "2007",
          "200k",
          "2011",
          "2012",
          "2017",
          "2021",
          "20211209",
          "2024",
          "2025",
          "2028",
          "2045",
          "208",
          "21",
          "22",
          "22rate",
          "23",
          "234",
          "235",
          "24",
          "25",
          "250",
          "25bps",
          "25k",
          "27",
          "28",
          "296895",
          "2c_books",
          "2c_wiki_recommendations",
          "2fapps",
          "2k",
          "2nd",
          "2s",
          "30",
          "300",
          "3000",
          "31",
          "31224",
          "31225",
          "31f",
          "33",
          "3306",
          "34",
          "35",
          "350",
          "36",
          "3a",
          "3d",
          "3f",
          "3k",
          "3oz8xzgfhartvh99yi",
          "40",
          "401k",
          "404",
          "41",
          "42",
          "4260",
          "4267",
          "4271",
          "4359",
          "45",
          "4500",
          "456",
          "46",
          "4675",
          "47",
          "4900",
          "4d",
          "4m",
          "4th",
          "4x",
          "50",
          "500",
          "5000",
          "50k",
          "50x",
          "52",
          "522",
          "540",
          "55",
          "58",
          "60",
          "600k",
          "6026762",
          "64",
          "65",
          "66",
          "6969",
          "6k",
          "6th",
          "70",
          "75",
          "7500",
          "77",
          "7k",
          "7s",
          "80",
          "81",
          "83",
          "87",
          "8882",
          "8883",
          "89",
          "90",
          "9000",
          "90k",
          "95",
          "97",
          "98",
          "98th",
          "99",
          "9k",
          "_are",
          "_so",
          "aapl",
          "ability",
          "able",
          "abolish",
          "about",
          "above",
          "absolute",
          "absolutely",
          "abuse",
          "abusing",
          "abysmal",
          "accelerate",
          "accept",
          "acceptable",
          "accepted",
          "access",
          "according",
          "account",
          "accretive",
          "acct",
          "accurate",
          "accurately",
          "aces",
          "acgl",
          "achieved",
          "achievement",
          "achieves",
          "achilles",
          "acn",
          "acquires",
          "acquisition",
          "acquisitions",
          "across",
          "act",
          "action",
          "actionable",
          "actions",
          "actively",
          "activity",
          "actors",
          "acts",
          "actual",
          "actually",
          "ad",
          "adausd",
          "add",
          "added",
          "addicted",
          "addicts",
          "adding",
          "addition",
          "additional",
          "addressed",
          "adjacent",
          "adjust",
          "admin",
          "administration",
          "administrations",
          "admins",
          "admit",
          "admitted",
          "adobe",
          "adp",
          "adult",
          "advanced",
          "advantage",
          "adversaries",
          "advertisements",
          "advice",
          "advise",
          "advised",
          "advisor",
          "advisors",
          "advocating",
          "aerc",
          "aerocontractors",
          "affect",
          "affected",
          "affects",
          "afford",
          "afraid",
          "africa",
          "after",
          "afternoon",
          "afterwards",
          "again",
          "against",
          "agane",
          "age",
          "aged",
          "agencies",
          "agenda",
          "agentnlp",
          "aggressively",
          "aggressor",
          "agnew",
          "ago",
          "agolf",
          "agree",
          "agreed",
          "agreement",
          "agriculture",
          "ahead",
          "ai",
          "aid",
          "aimed",
          "aiming",
          "ain",
          "air",
          "aircraft",
          "airline",
          "airlines",
          "airplane",
          "airplanes",
          "aka",
          "aladeen",
          "albeit",
          "alerts",
          "all",
          "allies",
          "allocating",
          "allocation",
          "allowed",
          "allowing",
          "allows",
          "ally",
          "almasria",
          "almost",
          "alone"
         ],
         "y": {
          "bdata": "BAYBAQEBAQEVCwEBAQEBAQEFAwEIAQIBAgEBAQEIAgEBAQEBAQECAgEDAQECAQEBAQEBAQEBAQEHAgEBAQEBAgECBgEBAQIEAQMBAQIHAwECAQIBAQEBAQIBCQEBAQEBAQECAQMCAgECAQEBBAEBAQICAQcBAQEBAQEBAQEBAQEMBAQBAQEBAQEBAgEBAgIBAQEBAgIBAgEBAwEBAQECAQUBAQEBAgEBAQEBAwIGAUgEAQMBAQEBAQIBAQEBAQEFAQEBAQEBAQMBAwEDAgEDAQEEAQIFCwEBAQEBAQMCBAEBAwIKAQEBAQEBAQEBAQEHAQEBAwIBAwMCAQEBARsBAQ4HAQEBAQEBAQEBDAEEAQEBAgUBAQECAwIBBgEBAQEBAmEHAQYDAQMCAwYE",
          "dtype": "i1"
         }
        }
       ],
       "layout": {
        "template": {
         "data": {
          "bar": [
           {
            "error_x": {
             "color": "#2a3f5f"
            },
            "error_y": {
             "color": "#2a3f5f"
            },
            "marker": {
             "line": {
              "color": "#E5ECF6",
              "width": 0.5
             },
             "pattern": {
              "fillmode": "overlay",
              "size": 10,
              "solidity": 0.2
             }
            },
            "type": "bar"
           }
          ],
          "barpolar": [
           {
            "marker": {
             "line": {
              "color": "#E5ECF6",
              "width": 0.5
             },
             "pattern": {
              "fillmode": "overlay",
              "size": 10,
              "solidity": 0.2
             }
            },
            "type": "barpolar"
           }
          ],
          "carpet": [
           {
            "aaxis": {
             "endlinecolor": "#2a3f5f",
             "gridcolor": "white",
             "linecolor": "white",
             "minorgridcolor": "white",
             "startlinecolor": "#2a3f5f"
            },
            "baxis": {
             "endlinecolor": "#2a3f5f",
             "gridcolor": "white",
             "linecolor": "white",
             "minorgridcolor": "white",
             "startlinecolor": "#2a3f5f"
            },
            "type": "carpet"
           }
          ],
          "choropleth": [
           {
            "colorbar": {
             "outlinewidth": 0,
             "ticks": ""
            },
            "type": "choropleth"
           }
          ],
          "contour": [
           {
            "colorbar": {
             "outlinewidth": 0,
             "ticks": ""
            },
            "colorscale": [
             [
              0,
              "#0d0887"
             ],
             [
              0.1111111111111111,
              "#46039f"
             ],
             [
              0.2222222222222222,
              "#7201a8"
             ],
             [
              0.3333333333333333,
              "#9c179e"
             ],
             [
              0.4444444444444444,
              "#bd3786"
             ],
             [
              0.5555555555555556,
              "#d8576b"
             ],
             [
              0.6666666666666666,
              "#ed7953"
             ],
             [
              0.7777777777777778,
              "#fb9f3a"
             ],
             [
              0.8888888888888888,
              "#fdca26"
             ],
             [
              1,
              "#f0f921"
             ]
            ],
            "type": "contour"
           }
          ],
          "contourcarpet": [
           {
            "colorbar": {
             "outlinewidth": 0,
             "ticks": ""
            },
            "type": "contourcarpet"
           }
          ],
          "heatmap": [
           {
            "colorbar": {
             "outlinewidth": 0,
             "ticks": ""
            },
            "colorscale": [
             [
              0,
              "#0d0887"
             ],
             [
              0.1111111111111111,
              "#46039f"
             ],
             [
              0.2222222222222222,
              "#7201a8"
             ],
             [
              0.3333333333333333,
              "#9c179e"
             ],
             [
              0.4444444444444444,
              "#bd3786"
             ],
             [
              0.5555555555555556,
              "#d8576b"
             ],
             [
              0.6666666666666666,
              "#ed7953"
             ],
             [
              0.7777777777777778,
              "#fb9f3a"
             ],
             [
              0.8888888888888888,
              "#fdca26"
             ],
             [
              1,
              "#f0f921"
             ]
            ],
            "type": "heatmap"
           }
          ],
          "histogram": [
           {
            "marker": {
             "pattern": {
              "fillmode": "overlay",
              "size": 10,
              "solidity": 0.2
             }
            },
            "type": "histogram"
           }
          ],
          "histogram2d": [
           {
            "colorbar": {
             "outlinewidth": 0,
             "ticks": ""
            },
            "colorscale": [
             [
              0,
              "#0d0887"
             ],
             [
              0.1111111111111111,
              "#46039f"
             ],
             [
              0.2222222222222222,
              "#7201a8"
             ],
             [
              0.3333333333333333,
              "#9c179e"
             ],
             [
              0.4444444444444444,
              "#bd3786"
             ],
             [
              0.5555555555555556,
              "#d8576b"
             ],
             [
              0.6666666666666666,
              "#ed7953"
             ],
             [
              0.7777777777777778,
              "#fb9f3a"
             ],
             [
              0.8888888888888888,
              "#fdca26"
             ],
             [
              1,
              "#f0f921"
             ]
            ],
            "type": "histogram2d"
           }
          ],
          "histogram2dcontour": [
           {
            "colorbar": {
             "outlinewidth": 0,
             "ticks": ""
            },
            "colorscale": [
             [
              0,
              "#0d0887"
             ],
             [
              0.1111111111111111,
              "#46039f"
             ],
             [
              0.2222222222222222,
              "#7201a8"
             ],
             [
              0.3333333333333333,
              "#9c179e"
             ],
             [
              0.4444444444444444,
              "#bd3786"
             ],
             [
              0.5555555555555556,
              "#d8576b"
             ],
             [
              0.6666666666666666,
              "#ed7953"
             ],
             [
              0.7777777777777778,
              "#fb9f3a"
             ],
             [
              0.8888888888888888,
              "#fdca26"
             ],
             [
              1,
              "#f0f921"
             ]
            ],
            "type": "histogram2dcontour"
           }
          ],
          "mesh3d": [
           {
            "colorbar": {
             "outlinewidth": 0,
             "ticks": ""
            },
            "type": "mesh3d"
           }
          ],
          "parcoords": [
           {
            "line": {
             "colorbar": {
              "outlinewidth": 0,
              "ticks": ""
             }
            },
            "type": "parcoords"
           }
          ],
          "pie": [
           {
            "automargin": true,
            "type": "pie"
           }
          ],
          "scatter": [
           {
            "fillpattern": {
             "fillmode": "overlay",
             "size": 10,
             "solidity": 0.2
            },
            "type": "scatter"
           }
          ],
          "scatter3d": [
           {
            "line": {
             "colorbar": {
              "outlinewidth": 0,
              "ticks": ""
             }
            },
            "marker": {
             "colorbar": {
              "outlinewidth": 0,
              "ticks": ""
             }
            },
            "type": "scatter3d"
           }
          ],
          "scattercarpet": [
           {
            "marker": {
             "colorbar": {
              "outlinewidth": 0,
              "ticks": ""
             }
            },
            "type": "scattercarpet"
           }
          ],
          "scattergeo": [
           {
            "marker": {
             "colorbar": {
              "outlinewidth": 0,
              "ticks": ""
             }
            },
            "type": "scattergeo"
           }
          ],
          "scattergl": [
           {
            "marker": {
             "colorbar": {
              "outlinewidth": 0,
              "ticks": ""
             }
            },
            "type": "scattergl"
           }
          ],
          "scattermap": [
           {
            "marker": {
             "colorbar": {
              "outlinewidth": 0,
              "ticks": ""
             }
            },
            "type": "scattermap"
           }
          ],
          "scattermapbox": [
           {
            "marker": {
             "colorbar": {
              "outlinewidth": 0,
              "ticks": ""
             }
            },
            "type": "scattermapbox"
           }
          ],
          "scatterpolar": [
           {
            "marker": {
             "colorbar": {
              "outlinewidth": 0,
              "ticks": ""
             }
            },
            "type": "scatterpolar"
           }
          ],
          "scatterpolargl": [
           {
            "marker": {
             "colorbar": {
              "outlinewidth": 0,
              "ticks": ""
             }
            },
            "type": "scatterpolargl"
           }
          ],
          "scatterternary": [
           {
            "marker": {
             "colorbar": {
              "outlinewidth": 0,
              "ticks": ""
             }
            },
            "type": "scatterternary"
           }
          ],
          "surface": [
           {
            "colorbar": {
             "outlinewidth": 0,
             "ticks": ""
            },
            "colorscale": [
             [
              0,
              "#0d0887"
             ],
             [
              0.1111111111111111,
              "#46039f"
             ],
             [
              0.2222222222222222,
              "#7201a8"
             ],
             [
              0.3333333333333333,
              "#9c179e"
             ],
             [
              0.4444444444444444,
              "#bd3786"
             ],
             [
              0.5555555555555556,
              "#d8576b"
             ],
             [
              0.6666666666666666,
              "#ed7953"
             ],
             [
              0.7777777777777778,
              "#fb9f3a"
             ],
             [
              0.8888888888888888,
              "#fdca26"
             ],
             [
              1,
              "#f0f921"
             ]
            ],
            "type": "surface"
           }
          ],
          "table": [
           {
            "cells": {
             "fill": {
              "color": "#EBF0F8"
             },
             "line": {
              "color": "white"
             }
            },
            "header": {
             "fill": {
              "color": "#C8D4E3"
             },
             "line": {
              "color": "white"
             }
            },
            "type": "table"
           }
          ]
         },
         "layout": {
          "annotationdefaults": {
           "arrowcolor": "#2a3f5f",
           "arrowhead": 0,
           "arrowwidth": 1
          },
          "autotypenumbers": "strict",
          "coloraxis": {
           "colorbar": {
            "outlinewidth": 0,
            "ticks": ""
           }
          },
          "colorscale": {
           "diverging": [
            [
             0,
             "#8e0152"
            ],
            [
             0.1,
             "#c51b7d"
            ],
            [
             0.2,
             "#de77ae"
            ],
            [
             0.3,
             "#f1b6da"
            ],
            [
             0.4,
             "#fde0ef"
            ],
            [
             0.5,
             "#f7f7f7"
            ],
            [
             0.6,
             "#e6f5d0"
            ],
            [
             0.7,
             "#b8e186"
            ],
            [
             0.8,
             "#7fbc41"
            ],
            [
             0.9,
             "#4d9221"
            ],
            [
             1,
             "#276419"
            ]
           ],
           "sequential": [
            [
             0,
             "#0d0887"
            ],
            [
             0.1111111111111111,
             "#46039f"
            ],
            [
             0.2222222222222222,
             "#7201a8"
            ],
            [
             0.3333333333333333,
             "#9c179e"
            ],
            [
             0.4444444444444444,
             "#bd3786"
            ],
            [
             0.5555555555555556,
             "#d8576b"
            ],
            [
             0.6666666666666666,
             "#ed7953"
            ],
            [
             0.7777777777777778,
             "#fb9f3a"
            ],
            [
             0.8888888888888888,
             "#fdca26"
            ],
            [
             1,
             "#f0f921"
            ]
           ],
           "sequentialminus": [
            [
             0,
             "#0d0887"
            ],
            [
             0.1111111111111111,
             "#46039f"
            ],
            [
             0.2222222222222222,
             "#7201a8"
            ],
            [
             0.3333333333333333,
             "#9c179e"
            ],
            [
             0.4444444444444444,
             "#bd3786"
            ],
            [
             0.5555555555555556,
             "#d8576b"
            ],
            [
             0.6666666666666666,
             "#ed7953"
            ],
            [
             0.7777777777777778,
             "#fb9f3a"
            ],
            [
             0.8888888888888888,
             "#fdca26"
            ],
            [
             1,
             "#f0f921"
            ]
           ]
          },
          "colorway": [
           "#636efa",
           "#EF553B",
           "#00cc96",
           "#ab63fa",
           "#FFA15A",
           "#19d3f3",
           "#FF6692",
           "#B6E880",
           "#FF97FF",
           "#FECB52"
          ],
          "font": {
           "color": "#2a3f5f"
          },
          "geo": {
           "bgcolor": "white",
           "lakecolor": "white",
           "landcolor": "#E5ECF6",
           "showlakes": true,
           "showland": true,
           "subunitcolor": "white"
          },
          "hoverlabel": {
           "align": "left"
          },
          "hovermode": "closest",
          "mapbox": {
           "style": "light"
          },
          "paper_bgcolor": "white",
          "plot_bgcolor": "#E5ECF6",
          "polar": {
           "angularaxis": {
            "gridcolor": "white",
            "linecolor": "white",
            "ticks": ""
           },
           "bgcolor": "#E5ECF6",
           "radialaxis": {
            "gridcolor": "white",
            "linecolor": "white",
            "ticks": ""
           }
          },
          "scene": {
           "xaxis": {
            "backgroundcolor": "#E5ECF6",
            "gridcolor": "white",
            "gridwidth": 2,
            "linecolor": "white",
            "showbackground": true,
            "ticks": "",
            "zerolinecolor": "white"
           },
           "yaxis": {
            "backgroundcolor": "#E5ECF6",
            "gridcolor": "white",
            "gridwidth": 2,
            "linecolor": "white",
            "showbackground": true,
            "ticks": "",
            "zerolinecolor": "white"
           },
           "zaxis": {
            "backgroundcolor": "#E5ECF6",
            "gridcolor": "white",
            "gridwidth": 2,
            "linecolor": "white",
            "showbackground": true,
            "ticks": "",
            "zerolinecolor": "white"
           }
          },
          "shapedefaults": {
           "line": {
            "color": "#2a3f5f"
           }
          },
          "ternary": {
           "aaxis": {
            "gridcolor": "white",
            "linecolor": "white",
            "ticks": ""
           },
           "baxis": {
            "gridcolor": "white",
            "linecolor": "white",
            "ticks": ""
           },
           "bgcolor": "#E5ECF6",
           "caxis": {
            "gridcolor": "white",
            "linecolor": "white",
            "ticks": ""
           }
          },
          "title": {
           "x": 0.05
          },
          "xaxis": {
           "automargin": true,
           "gridcolor": "white",
           "linecolor": "white",
           "ticks": "",
           "title": {
            "standoff": 15
           },
           "zerolinecolor": "white",
           "zerolinewidth": 2
          },
          "yaxis": {
           "automargin": true,
           "gridcolor": "white",
           "linecolor": "white",
           "ticks": "",
           "title": {
            "standoff": 15
           },
           "zerolinecolor": "white",
           "zerolinewidth": 2
          }
         }
        },
        "title": {
         "text": "使用 Plotly "
        },
        "xaxis": {
         "title": {
          "text": "項目類別"
         }
        },
        "yaxis": {
         "title": {
          "text": "頻率"
         }
        }
       }
      }
     },
     "metadata": {},
     "output_type": "display_data"
    }
   ],
   "source": [
    "fig = py.graph_objects.Figure(data=[\n",
    "    py.graph_objects.Bar(x=count_vect.get_feature_names_out()[:300], \n",
    "            y=term_frequencies[:300])\n",
    "])\n",
    "fig.update_layout(\n",
    "    title_text='使用 Plotly ',\n",
    "    xaxis_title='項目類別',\n",
    "    yaxis_title='頻率',\n",
    "\n",
    ")\n"
   ]
  },
  {
   "cell_type": "markdown",
   "metadata": {},
   "source": [
    "### >>> **Exercise 13 (take home):** \n",
    "The chart above only contains 300 vocabulary in the documents, and it's already computationally intensive to both compute and visualize. Can you efficiently reduce the number of terms you want to visualize as an exercise. \n",
    "\n",
    "### >>> **練習 13（帶回家）：**\n",
    "上面的圖表僅包含文件中的 300 個詞彙，計算和視覺化都已經非常耗時。作為練習，你能否有效地減少要視覺化的詞彙數量？"
   ]
  },
  {
   "cell_type": "code",
   "execution_count": 25,
   "metadata": {},
   "outputs": [
    {
     "data": {
      "application/vnd.plotly.v1+json": {
       "config": {
        "plotlyServerURL": "https://plot.ly"
       },
       "data": [
        {
         "type": "bar",
         "x": [
          "000",
          "10",
          "100",
          "11",
          "12",
          "15",
          "20",
          "2025",
          "25",
          "30",
          "4271",
          "50",
          "90",
          "able",
          "about",
          "accurate",
          "actual",
          "actually",
          "administration",
          "advice",
          "after",
          "again",
          "against",
          "ago",
          "ai",
          "airlines",
          "all",
          "allies",
          "allocation",
          "almost"
         ],
         "y": [
          6,
          21,
          11,
          5,
          8,
          8,
          7,
          6,
          7,
          9,
          7,
          12,
          5,
          6,
          72,
          5,
          5,
          11,
          10,
          7,
          27,
          14,
          7,
          12,
          5,
          6,
          97,
          7,
          6,
          6
         ]
        }
       ],
       "layout": {
        "template": {
         "data": {
          "bar": [
           {
            "error_x": {
             "color": "#2a3f5f"
            },
            "error_y": {
             "color": "#2a3f5f"
            },
            "marker": {
             "line": {
              "color": "#E5ECF6",
              "width": 0.5
             },
             "pattern": {
              "fillmode": "overlay",
              "size": 10,
              "solidity": 0.2
             }
            },
            "type": "bar"
           }
          ],
          "barpolar": [
           {
            "marker": {
             "line": {
              "color": "#E5ECF6",
              "width": 0.5
             },
             "pattern": {
              "fillmode": "overlay",
              "size": 10,
              "solidity": 0.2
             }
            },
            "type": "barpolar"
           }
          ],
          "carpet": [
           {
            "aaxis": {
             "endlinecolor": "#2a3f5f",
             "gridcolor": "white",
             "linecolor": "white",
             "minorgridcolor": "white",
             "startlinecolor": "#2a3f5f"
            },
            "baxis": {
             "endlinecolor": "#2a3f5f",
             "gridcolor": "white",
             "linecolor": "white",
             "minorgridcolor": "white",
             "startlinecolor": "#2a3f5f"
            },
            "type": "carpet"
           }
          ],
          "choropleth": [
           {
            "colorbar": {
             "outlinewidth": 0,
             "ticks": ""
            },
            "type": "choropleth"
           }
          ],
          "contour": [
           {
            "colorbar": {
             "outlinewidth": 0,
             "ticks": ""
            },
            "colorscale": [
             [
              0,
              "#0d0887"
             ],
             [
              0.1111111111111111,
              "#46039f"
             ],
             [
              0.2222222222222222,
              "#7201a8"
             ],
             [
              0.3333333333333333,
              "#9c179e"
             ],
             [
              0.4444444444444444,
              "#bd3786"
             ],
             [
              0.5555555555555556,
              "#d8576b"
             ],
             [
              0.6666666666666666,
              "#ed7953"
             ],
             [
              0.7777777777777778,
              "#fb9f3a"
             ],
             [
              0.8888888888888888,
              "#fdca26"
             ],
             [
              1,
              "#f0f921"
             ]
            ],
            "type": "contour"
           }
          ],
          "contourcarpet": [
           {
            "colorbar": {
             "outlinewidth": 0,
             "ticks": ""
            },
            "type": "contourcarpet"
           }
          ],
          "heatmap": [
           {
            "colorbar": {
             "outlinewidth": 0,
             "ticks": ""
            },
            "colorscale": [
             [
              0,
              "#0d0887"
             ],
             [
              0.1111111111111111,
              "#46039f"
             ],
             [
              0.2222222222222222,
              "#7201a8"
             ],
             [
              0.3333333333333333,
              "#9c179e"
             ],
             [
              0.4444444444444444,
              "#bd3786"
             ],
             [
              0.5555555555555556,
              "#d8576b"
             ],
             [
              0.6666666666666666,
              "#ed7953"
             ],
             [
              0.7777777777777778,
              "#fb9f3a"
             ],
             [
              0.8888888888888888,
              "#fdca26"
             ],
             [
              1,
              "#f0f921"
             ]
            ],
            "type": "heatmap"
           }
          ],
          "histogram": [
           {
            "marker": {
             "pattern": {
              "fillmode": "overlay",
              "size": 10,
              "solidity": 0.2
             }
            },
            "type": "histogram"
           }
          ],
          "histogram2d": [
           {
            "colorbar": {
             "outlinewidth": 0,
             "ticks": ""
            },
            "colorscale": [
             [
              0,
              "#0d0887"
             ],
             [
              0.1111111111111111,
              "#46039f"
             ],
             [
              0.2222222222222222,
              "#7201a8"
             ],
             [
              0.3333333333333333,
              "#9c179e"
             ],
             [
              0.4444444444444444,
              "#bd3786"
             ],
             [
              0.5555555555555556,
              "#d8576b"
             ],
             [
              0.6666666666666666,
              "#ed7953"
             ],
             [
              0.7777777777777778,
              "#fb9f3a"
             ],
             [
              0.8888888888888888,
              "#fdca26"
             ],
             [
              1,
              "#f0f921"
             ]
            ],
            "type": "histogram2d"
           }
          ],
          "histogram2dcontour": [
           {
            "colorbar": {
             "outlinewidth": 0,
             "ticks": ""
            },
            "colorscale": [
             [
              0,
              "#0d0887"
             ],
             [
              0.1111111111111111,
              "#46039f"
             ],
             [
              0.2222222222222222,
              "#7201a8"
             ],
             [
              0.3333333333333333,
              "#9c179e"
             ],
             [
              0.4444444444444444,
              "#bd3786"
             ],
             [
              0.5555555555555556,
              "#d8576b"
             ],
             [
              0.6666666666666666,
              "#ed7953"
             ],
             [
              0.7777777777777778,
              "#fb9f3a"
             ],
             [
              0.8888888888888888,
              "#fdca26"
             ],
             [
              1,
              "#f0f921"
             ]
            ],
            "type": "histogram2dcontour"
           }
          ],
          "mesh3d": [
           {
            "colorbar": {
             "outlinewidth": 0,
             "ticks": ""
            },
            "type": "mesh3d"
           }
          ],
          "parcoords": [
           {
            "line": {
             "colorbar": {
              "outlinewidth": 0,
              "ticks": ""
             }
            },
            "type": "parcoords"
           }
          ],
          "pie": [
           {
            "automargin": true,
            "type": "pie"
           }
          ],
          "scatter": [
           {
            "fillpattern": {
             "fillmode": "overlay",
             "size": 10,
             "solidity": 0.2
            },
            "type": "scatter"
           }
          ],
          "scatter3d": [
           {
            "line": {
             "colorbar": {
              "outlinewidth": 0,
              "ticks": ""
             }
            },
            "marker": {
             "colorbar": {
              "outlinewidth": 0,
              "ticks": ""
             }
            },
            "type": "scatter3d"
           }
          ],
          "scattercarpet": [
           {
            "marker": {
             "colorbar": {
              "outlinewidth": 0,
              "ticks": ""
             }
            },
            "type": "scattercarpet"
           }
          ],
          "scattergeo": [
           {
            "marker": {
             "colorbar": {
              "outlinewidth": 0,
              "ticks": ""
             }
            },
            "type": "scattergeo"
           }
          ],
          "scattergl": [
           {
            "marker": {
             "colorbar": {
              "outlinewidth": 0,
              "ticks": ""
             }
            },
            "type": "scattergl"
           }
          ],
          "scattermap": [
           {
            "marker": {
             "colorbar": {
              "outlinewidth": 0,
              "ticks": ""
             }
            },
            "type": "scattermap"
           }
          ],
          "scattermapbox": [
           {
            "marker": {
             "colorbar": {
              "outlinewidth": 0,
              "ticks": ""
             }
            },
            "type": "scattermapbox"
           }
          ],
          "scatterpolar": [
           {
            "marker": {
             "colorbar": {
              "outlinewidth": 0,
              "ticks": ""
             }
            },
            "type": "scatterpolar"
           }
          ],
          "scatterpolargl": [
           {
            "marker": {
             "colorbar": {
              "outlinewidth": 0,
              "ticks": ""
             }
            },
            "type": "scatterpolargl"
           }
          ],
          "scatterternary": [
           {
            "marker": {
             "colorbar": {
              "outlinewidth": 0,
              "ticks": ""
             }
            },
            "type": "scatterternary"
           }
          ],
          "surface": [
           {
            "colorbar": {
             "outlinewidth": 0,
             "ticks": ""
            },
            "colorscale": [
             [
              0,
              "#0d0887"
             ],
             [
              0.1111111111111111,
              "#46039f"
             ],
             [
              0.2222222222222222,
              "#7201a8"
             ],
             [
              0.3333333333333333,
              "#9c179e"
             ],
             [
              0.4444444444444444,
              "#bd3786"
             ],
             [
              0.5555555555555556,
              "#d8576b"
             ],
             [
              0.6666666666666666,
              "#ed7953"
             ],
             [
              0.7777777777777778,
              "#fb9f3a"
             ],
             [
              0.8888888888888888,
              "#fdca26"
             ],
             [
              1,
              "#f0f921"
             ]
            ],
            "type": "surface"
           }
          ],
          "table": [
           {
            "cells": {
             "fill": {
              "color": "#EBF0F8"
             },
             "line": {
              "color": "white"
             }
            },
            "header": {
             "fill": {
              "color": "#C8D4E3"
             },
             "line": {
              "color": "white"
             }
            },
            "type": "table"
           }
          ]
         },
         "layout": {
          "annotationdefaults": {
           "arrowcolor": "#2a3f5f",
           "arrowhead": 0,
           "arrowwidth": 1
          },
          "autotypenumbers": "strict",
          "coloraxis": {
           "colorbar": {
            "outlinewidth": 0,
            "ticks": ""
           }
          },
          "colorscale": {
           "diverging": [
            [
             0,
             "#8e0152"
            ],
            [
             0.1,
             "#c51b7d"
            ],
            [
             0.2,
             "#de77ae"
            ],
            [
             0.3,
             "#f1b6da"
            ],
            [
             0.4,
             "#fde0ef"
            ],
            [
             0.5,
             "#f7f7f7"
            ],
            [
             0.6,
             "#e6f5d0"
            ],
            [
             0.7,
             "#b8e186"
            ],
            [
             0.8,
             "#7fbc41"
            ],
            [
             0.9,
             "#4d9221"
            ],
            [
             1,
             "#276419"
            ]
           ],
           "sequential": [
            [
             0,
             "#0d0887"
            ],
            [
             0.1111111111111111,
             "#46039f"
            ],
            [
             0.2222222222222222,
             "#7201a8"
            ],
            [
             0.3333333333333333,
             "#9c179e"
            ],
            [
             0.4444444444444444,
             "#bd3786"
            ],
            [
             0.5555555555555556,
             "#d8576b"
            ],
            [
             0.6666666666666666,
             "#ed7953"
            ],
            [
             0.7777777777777778,
             "#fb9f3a"
            ],
            [
             0.8888888888888888,
             "#fdca26"
            ],
            [
             1,
             "#f0f921"
            ]
           ],
           "sequentialminus": [
            [
             0,
             "#0d0887"
            ],
            [
             0.1111111111111111,
             "#46039f"
            ],
            [
             0.2222222222222222,
             "#7201a8"
            ],
            [
             0.3333333333333333,
             "#9c179e"
            ],
            [
             0.4444444444444444,
             "#bd3786"
            ],
            [
             0.5555555555555556,
             "#d8576b"
            ],
            [
             0.6666666666666666,
             "#ed7953"
            ],
            [
             0.7777777777777778,
             "#fb9f3a"
            ],
            [
             0.8888888888888888,
             "#fdca26"
            ],
            [
             1,
             "#f0f921"
            ]
           ]
          },
          "colorway": [
           "#636efa",
           "#EF553B",
           "#00cc96",
           "#ab63fa",
           "#FFA15A",
           "#19d3f3",
           "#FF6692",
           "#B6E880",
           "#FF97FF",
           "#FECB52"
          ],
          "font": {
           "color": "#2a3f5f"
          },
          "geo": {
           "bgcolor": "white",
           "lakecolor": "white",
           "landcolor": "#E5ECF6",
           "showlakes": true,
           "showland": true,
           "subunitcolor": "white"
          },
          "hoverlabel": {
           "align": "left"
          },
          "hovermode": "closest",
          "mapbox": {
           "style": "light"
          },
          "paper_bgcolor": "white",
          "plot_bgcolor": "#E5ECF6",
          "polar": {
           "angularaxis": {
            "gridcolor": "white",
            "linecolor": "white",
            "ticks": ""
           },
           "bgcolor": "#E5ECF6",
           "radialaxis": {
            "gridcolor": "white",
            "linecolor": "white",
            "ticks": ""
           }
          },
          "scene": {
           "xaxis": {
            "backgroundcolor": "#E5ECF6",
            "gridcolor": "white",
            "gridwidth": 2,
            "linecolor": "white",
            "showbackground": true,
            "ticks": "",
            "zerolinecolor": "white"
           },
           "yaxis": {
            "backgroundcolor": "#E5ECF6",
            "gridcolor": "white",
            "gridwidth": 2,
            "linecolor": "white",
            "showbackground": true,
            "ticks": "",
            "zerolinecolor": "white"
           },
           "zaxis": {
            "backgroundcolor": "#E5ECF6",
            "gridcolor": "white",
            "gridwidth": 2,
            "linecolor": "white",
            "showbackground": true,
            "ticks": "",
            "zerolinecolor": "white"
           }
          },
          "shapedefaults": {
           "line": {
            "color": "#2a3f5f"
           }
          },
          "ternary": {
           "aaxis": {
            "gridcolor": "white",
            "linecolor": "white",
            "ticks": ""
           },
           "baxis": {
            "gridcolor": "white",
            "linecolor": "white",
            "ticks": ""
           },
           "bgcolor": "#E5ECF6",
           "caxis": {
            "gridcolor": "white",
            "linecolor": "white",
            "ticks": ""
           }
          },
          "title": {
           "x": 0.05
          },
          "xaxis": {
           "automargin": true,
           "gridcolor": "white",
           "linecolor": "white",
           "ticks": "",
           "title": {
            "standoff": 15
           },
           "zerolinecolor": "white",
           "zerolinewidth": 2
          },
          "yaxis": {
           "automargin": true,
           "gridcolor": "white",
           "linecolor": "white",
           "ticks": "",
           "title": {
            "standoff": 15
           },
           "zerolinecolor": "white",
           "zerolinewidth": 2
          }
         }
        },
        "title": {
         "text": "過濾頻率過小的項目"
        },
        "xaxis": {
         "title": {
          "text": "項目類別"
         }
        },
        "yaxis": {
         "title": {
          "text": "頻率"
         }
        }
       }
      }
     },
     "metadata": {},
     "output_type": "display_data"
    }
   ],
   "source": [
    "# Answer here\n",
    "# 修改 y_values 的閾值來剔除低頻詞彙，避免圖表過於擁擠\n",
    "# Adjust the threshold y_values to filter out low-frequency terms and avoid clutter\n",
    "x_data = count_vect.get_feature_names_out()[:300]\n",
    "y_data = term_frequencies[:300]\n",
    "\n",
    "y_values = 5\n",
    "\n",
    "filtered_x = [x for x, y in zip(x_data, y_data) if y >= y_values]\n",
    "filtered_y = [y for y in y_data if y >= y_values]\n",
    "fig = py.graph_objects.Figure(data=[\n",
    "    py.graph_objects.Bar(x=filtered_x, \n",
    "                         y=filtered_y),\n",
    "])\n",
    "fig.update_layout(\n",
    "    title_text='過濾頻率過小的項目',\n",
    "    xaxis_title='項目類別',\n",
    "    yaxis_title='頻率',\n",
    ")\n"
   ]
  },
  {
   "cell_type": "markdown",
   "metadata": {},
   "source": [
    "### >>> **Exercise 14 (take home):** \n",
    "Additionally, you can attempt to sort the terms on the `x-axis` by frequency instead of in alphabetical order. This way the visualization is more meaninfgul and you will be able to observe the so called [long tail](https://en.wikipedia.org/wiki/Long_tail) (get familiar with this term since it will appear a lot in data mining and other statistics courses). see picture below\n",
    "\n",
    "### >>> **練習 14（帶回家）：**\n",
    "此外，你可以嘗試按頻率而不是字母順序對「x 軸」上的術語進行排序。這樣，視覺化效果會更有意義，你也能觀察到所謂的「長尾」現象（熟悉這個術語，因為它在資料探勘和其他統計學課程中會經常出現）。見下圖\n",
    "\n",
    "![alt txt](https://upload.wikimedia.org/wikipedia/commons/thumb/8/8a/Long_tail.svg/1000px-Long_tail.svg.png)"
   ]
  },
  {
   "cell_type": "code",
   "execution_count": 26,
   "metadata": {},
   "outputs": [
    {
     "data": {
      "application/vnd.plotly.v1+json": {
       "config": {
        "plotlyServerURL": "https://plot.ly"
       },
       "data": [
        {
         "type": "bar",
         "x": [
          "all",
          "about",
          "after",
          "10",
          "again",
          "50",
          "ago",
          "100",
          "actually",
          "administration",
          "30",
          "12",
          "15",
          "20",
          "25",
          "4271",
          "advice",
          "against",
          "allies",
          "000",
          "2025",
          "able",
          "airlines",
          "allocation",
          "almost",
          "11",
          "90",
          "accurate",
          "actual",
          "ai"
         ],
         "y": [
          97,
          72,
          27,
          21,
          14,
          12,
          12,
          11,
          11,
          10,
          9,
          8,
          8,
          7,
          7,
          7,
          7,
          7,
          7,
          6,
          6,
          6,
          6,
          6,
          6,
          5,
          5,
          5,
          5,
          5
         ]
        }
       ],
       "layout": {
        "template": {
         "data": {
          "bar": [
           {
            "error_x": {
             "color": "#2a3f5f"
            },
            "error_y": {
             "color": "#2a3f5f"
            },
            "marker": {
             "line": {
              "color": "#E5ECF6",
              "width": 0.5
             },
             "pattern": {
              "fillmode": "overlay",
              "size": 10,
              "solidity": 0.2
             }
            },
            "type": "bar"
           }
          ],
          "barpolar": [
           {
            "marker": {
             "line": {
              "color": "#E5ECF6",
              "width": 0.5
             },
             "pattern": {
              "fillmode": "overlay",
              "size": 10,
              "solidity": 0.2
             }
            },
            "type": "barpolar"
           }
          ],
          "carpet": [
           {
            "aaxis": {
             "endlinecolor": "#2a3f5f",
             "gridcolor": "white",
             "linecolor": "white",
             "minorgridcolor": "white",
             "startlinecolor": "#2a3f5f"
            },
            "baxis": {
             "endlinecolor": "#2a3f5f",
             "gridcolor": "white",
             "linecolor": "white",
             "minorgridcolor": "white",
             "startlinecolor": "#2a3f5f"
            },
            "type": "carpet"
           }
          ],
          "choropleth": [
           {
            "colorbar": {
             "outlinewidth": 0,
             "ticks": ""
            },
            "type": "choropleth"
           }
          ],
          "contour": [
           {
            "colorbar": {
             "outlinewidth": 0,
             "ticks": ""
            },
            "colorscale": [
             [
              0,
              "#0d0887"
             ],
             [
              0.1111111111111111,
              "#46039f"
             ],
             [
              0.2222222222222222,
              "#7201a8"
             ],
             [
              0.3333333333333333,
              "#9c179e"
             ],
             [
              0.4444444444444444,
              "#bd3786"
             ],
             [
              0.5555555555555556,
              "#d8576b"
             ],
             [
              0.6666666666666666,
              "#ed7953"
             ],
             [
              0.7777777777777778,
              "#fb9f3a"
             ],
             [
              0.8888888888888888,
              "#fdca26"
             ],
             [
              1,
              "#f0f921"
             ]
            ],
            "type": "contour"
           }
          ],
          "contourcarpet": [
           {
            "colorbar": {
             "outlinewidth": 0,
             "ticks": ""
            },
            "type": "contourcarpet"
           }
          ],
          "heatmap": [
           {
            "colorbar": {
             "outlinewidth": 0,
             "ticks": ""
            },
            "colorscale": [
             [
              0,
              "#0d0887"
             ],
             [
              0.1111111111111111,
              "#46039f"
             ],
             [
              0.2222222222222222,
              "#7201a8"
             ],
             [
              0.3333333333333333,
              "#9c179e"
             ],
             [
              0.4444444444444444,
              "#bd3786"
             ],
             [
              0.5555555555555556,
              "#d8576b"
             ],
             [
              0.6666666666666666,
              "#ed7953"
             ],
             [
              0.7777777777777778,
              "#fb9f3a"
             ],
             [
              0.8888888888888888,
              "#fdca26"
             ],
             [
              1,
              "#f0f921"
             ]
            ],
            "type": "heatmap"
           }
          ],
          "histogram": [
           {
            "marker": {
             "pattern": {
              "fillmode": "overlay",
              "size": 10,
              "solidity": 0.2
             }
            },
            "type": "histogram"
           }
          ],
          "histogram2d": [
           {
            "colorbar": {
             "outlinewidth": 0,
             "ticks": ""
            },
            "colorscale": [
             [
              0,
              "#0d0887"
             ],
             [
              0.1111111111111111,
              "#46039f"
             ],
             [
              0.2222222222222222,
              "#7201a8"
             ],
             [
              0.3333333333333333,
              "#9c179e"
             ],
             [
              0.4444444444444444,
              "#bd3786"
             ],
             [
              0.5555555555555556,
              "#d8576b"
             ],
             [
              0.6666666666666666,
              "#ed7953"
             ],
             [
              0.7777777777777778,
              "#fb9f3a"
             ],
             [
              0.8888888888888888,
              "#fdca26"
             ],
             [
              1,
              "#f0f921"
             ]
            ],
            "type": "histogram2d"
           }
          ],
          "histogram2dcontour": [
           {
            "colorbar": {
             "outlinewidth": 0,
             "ticks": ""
            },
            "colorscale": [
             [
              0,
              "#0d0887"
             ],
             [
              0.1111111111111111,
              "#46039f"
             ],
             [
              0.2222222222222222,
              "#7201a8"
             ],
             [
              0.3333333333333333,
              "#9c179e"
             ],
             [
              0.4444444444444444,
              "#bd3786"
             ],
             [
              0.5555555555555556,
              "#d8576b"
             ],
             [
              0.6666666666666666,
              "#ed7953"
             ],
             [
              0.7777777777777778,
              "#fb9f3a"
             ],
             [
              0.8888888888888888,
              "#fdca26"
             ],
             [
              1,
              "#f0f921"
             ]
            ],
            "type": "histogram2dcontour"
           }
          ],
          "mesh3d": [
           {
            "colorbar": {
             "outlinewidth": 0,
             "ticks": ""
            },
            "type": "mesh3d"
           }
          ],
          "parcoords": [
           {
            "line": {
             "colorbar": {
              "outlinewidth": 0,
              "ticks": ""
             }
            },
            "type": "parcoords"
           }
          ],
          "pie": [
           {
            "automargin": true,
            "type": "pie"
           }
          ],
          "scatter": [
           {
            "fillpattern": {
             "fillmode": "overlay",
             "size": 10,
             "solidity": 0.2
            },
            "type": "scatter"
           }
          ],
          "scatter3d": [
           {
            "line": {
             "colorbar": {
              "outlinewidth": 0,
              "ticks": ""
             }
            },
            "marker": {
             "colorbar": {
              "outlinewidth": 0,
              "ticks": ""
             }
            },
            "type": "scatter3d"
           }
          ],
          "scattercarpet": [
           {
            "marker": {
             "colorbar": {
              "outlinewidth": 0,
              "ticks": ""
             }
            },
            "type": "scattercarpet"
           }
          ],
          "scattergeo": [
           {
            "marker": {
             "colorbar": {
              "outlinewidth": 0,
              "ticks": ""
             }
            },
            "type": "scattergeo"
           }
          ],
          "scattergl": [
           {
            "marker": {
             "colorbar": {
              "outlinewidth": 0,
              "ticks": ""
             }
            },
            "type": "scattergl"
           }
          ],
          "scattermap": [
           {
            "marker": {
             "colorbar": {
              "outlinewidth": 0,
              "ticks": ""
             }
            },
            "type": "scattermap"
           }
          ],
          "scattermapbox": [
           {
            "marker": {
             "colorbar": {
              "outlinewidth": 0,
              "ticks": ""
             }
            },
            "type": "scattermapbox"
           }
          ],
          "scatterpolar": [
           {
            "marker": {
             "colorbar": {
              "outlinewidth": 0,
              "ticks": ""
             }
            },
            "type": "scatterpolar"
           }
          ],
          "scatterpolargl": [
           {
            "marker": {
             "colorbar": {
              "outlinewidth": 0,
              "ticks": ""
             }
            },
            "type": "scatterpolargl"
           }
          ],
          "scatterternary": [
           {
            "marker": {
             "colorbar": {
              "outlinewidth": 0,
              "ticks": ""
             }
            },
            "type": "scatterternary"
           }
          ],
          "surface": [
           {
            "colorbar": {
             "outlinewidth": 0,
             "ticks": ""
            },
            "colorscale": [
             [
              0,
              "#0d0887"
             ],
             [
              0.1111111111111111,
              "#46039f"
             ],
             [
              0.2222222222222222,
              "#7201a8"
             ],
             [
              0.3333333333333333,
              "#9c179e"
             ],
             [
              0.4444444444444444,
              "#bd3786"
             ],
             [
              0.5555555555555556,
              "#d8576b"
             ],
             [
              0.6666666666666666,
              "#ed7953"
             ],
             [
              0.7777777777777778,
              "#fb9f3a"
             ],
             [
              0.8888888888888888,
              "#fdca26"
             ],
             [
              1,
              "#f0f921"
             ]
            ],
            "type": "surface"
           }
          ],
          "table": [
           {
            "cells": {
             "fill": {
              "color": "#EBF0F8"
             },
             "line": {
              "color": "white"
             }
            },
            "header": {
             "fill": {
              "color": "#C8D4E3"
             },
             "line": {
              "color": "white"
             }
            },
            "type": "table"
           }
          ]
         },
         "layout": {
          "annotationdefaults": {
           "arrowcolor": "#2a3f5f",
           "arrowhead": 0,
           "arrowwidth": 1
          },
          "autotypenumbers": "strict",
          "coloraxis": {
           "colorbar": {
            "outlinewidth": 0,
            "ticks": ""
           }
          },
          "colorscale": {
           "diverging": [
            [
             0,
             "#8e0152"
            ],
            [
             0.1,
             "#c51b7d"
            ],
            [
             0.2,
             "#de77ae"
            ],
            [
             0.3,
             "#f1b6da"
            ],
            [
             0.4,
             "#fde0ef"
            ],
            [
             0.5,
             "#f7f7f7"
            ],
            [
             0.6,
             "#e6f5d0"
            ],
            [
             0.7,
             "#b8e186"
            ],
            [
             0.8,
             "#7fbc41"
            ],
            [
             0.9,
             "#4d9221"
            ],
            [
             1,
             "#276419"
            ]
           ],
           "sequential": [
            [
             0,
             "#0d0887"
            ],
            [
             0.1111111111111111,
             "#46039f"
            ],
            [
             0.2222222222222222,
             "#7201a8"
            ],
            [
             0.3333333333333333,
             "#9c179e"
            ],
            [
             0.4444444444444444,
             "#bd3786"
            ],
            [
             0.5555555555555556,
             "#d8576b"
            ],
            [
             0.6666666666666666,
             "#ed7953"
            ],
            [
             0.7777777777777778,
             "#fb9f3a"
            ],
            [
             0.8888888888888888,
             "#fdca26"
            ],
            [
             1,
             "#f0f921"
            ]
           ],
           "sequentialminus": [
            [
             0,
             "#0d0887"
            ],
            [
             0.1111111111111111,
             "#46039f"
            ],
            [
             0.2222222222222222,
             "#7201a8"
            ],
            [
             0.3333333333333333,
             "#9c179e"
            ],
            [
             0.4444444444444444,
             "#bd3786"
            ],
            [
             0.5555555555555556,
             "#d8576b"
            ],
            [
             0.6666666666666666,
             "#ed7953"
            ],
            [
             0.7777777777777778,
             "#fb9f3a"
            ],
            [
             0.8888888888888888,
             "#fdca26"
            ],
            [
             1,
             "#f0f921"
            ]
           ]
          },
          "colorway": [
           "#636efa",
           "#EF553B",
           "#00cc96",
           "#ab63fa",
           "#FFA15A",
           "#19d3f3",
           "#FF6692",
           "#B6E880",
           "#FF97FF",
           "#FECB52"
          ],
          "font": {
           "color": "#2a3f5f"
          },
          "geo": {
           "bgcolor": "white",
           "lakecolor": "white",
           "landcolor": "#E5ECF6",
           "showlakes": true,
           "showland": true,
           "subunitcolor": "white"
          },
          "hoverlabel": {
           "align": "left"
          },
          "hovermode": "closest",
          "mapbox": {
           "style": "light"
          },
          "paper_bgcolor": "white",
          "plot_bgcolor": "#E5ECF6",
          "polar": {
           "angularaxis": {
            "gridcolor": "white",
            "linecolor": "white",
            "ticks": ""
           },
           "bgcolor": "#E5ECF6",
           "radialaxis": {
            "gridcolor": "white",
            "linecolor": "white",
            "ticks": ""
           }
          },
          "scene": {
           "xaxis": {
            "backgroundcolor": "#E5ECF6",
            "gridcolor": "white",
            "gridwidth": 2,
            "linecolor": "white",
            "showbackground": true,
            "ticks": "",
            "zerolinecolor": "white"
           },
           "yaxis": {
            "backgroundcolor": "#E5ECF6",
            "gridcolor": "white",
            "gridwidth": 2,
            "linecolor": "white",
            "showbackground": true,
            "ticks": "",
            "zerolinecolor": "white"
           },
           "zaxis": {
            "backgroundcolor": "#E5ECF6",
            "gridcolor": "white",
            "gridwidth": 2,
            "linecolor": "white",
            "showbackground": true,
            "ticks": "",
            "zerolinecolor": "white"
           }
          },
          "shapedefaults": {
           "line": {
            "color": "#2a3f5f"
           }
          },
          "ternary": {
           "aaxis": {
            "gridcolor": "white",
            "linecolor": "white",
            "ticks": ""
           },
           "baxis": {
            "gridcolor": "white",
            "linecolor": "white",
            "ticks": ""
           },
           "bgcolor": "#E5ECF6",
           "caxis": {
            "gridcolor": "white",
            "linecolor": "white",
            "ticks": ""
           }
          },
          "title": {
           "x": 0.05
          },
          "xaxis": {
           "automargin": true,
           "gridcolor": "white",
           "linecolor": "white",
           "ticks": "",
           "title": {
            "standoff": 15
           },
           "zerolinecolor": "white",
           "zerolinewidth": 2
          },
          "yaxis": {
           "automargin": true,
           "gridcolor": "white",
           "linecolor": "white",
           "ticks": "",
           "title": {
            "standoff": 15
           },
           "zerolinecolor": "white",
           "zerolinewidth": 2
          }
         }
        },
        "title": {
         "text": "過濾頻率過小的項目（由大到小排序）"
        },
        "xaxis": {
         "title": {
          "text": "項目類別"
         }
        },
        "yaxis": {
         "title": {
          "text": "頻率"
         }
        }
       }
      }
     },
     "metadata": {},
     "output_type": "display_data"
    }
   ],
   "source": [
    "# Answer here\n",
    "\n",
    "x_data = count_vect.get_feature_names_out()[:300]\n",
    "y_data = term_frequencies[:300]\n",
    "\n",
    "y_values = 5\n",
    "\n",
    "filtered_pairs = [(x, y) for x, y in zip(x_data, y_data) if y >= y_values]\n",
    "sorted_pairs = sorted(filtered_pairs, key=lambda t: t[1], reverse=True)\n",
    "\n",
    "filtered_x, filtered_y = zip(*sorted_pairs)\n",
    "fig = py.graph_objects.Figure(data=[\n",
    "    py.graph_objects.Bar(x=filtered_x, \n",
    "                         y=filtered_y)\n",
    "])\n",
    "fig.update_layout(\n",
    "    title_text='過濾頻率過小的項目（由大到小排序）',\n",
    "    xaxis_title='項目類別',\n",
    "    yaxis_title='頻率',\n",
    ")"
   ]
  },
  {
   "cell_type": "markdown",
   "metadata": {},
   "source": [
    "### >>> **Exercise 15 (take home):** \n",
    "You can copy the code from the previous exercise and change the 'term_frequencies' variable for the 'term_frequencies_log', comment about the differences that you observe and talk about other possible insights that we can get from a log distribution.\n",
    "\n",
    "### >>> **練習 15（帶回家）：**\n",
    "你可以複製上一個練習中的程式碼，並將“term_frequencies”變數改為“term_frequencies_log”，評論你觀察到的差異，並討論我們可以從對數分佈中獲得的其他可能的見解。"
   ]
  },
  {
   "cell_type": "code",
   "execution_count": 27,
   "metadata": {},
   "outputs": [
    {
     "name": "stdout",
     "output_type": "stream",
     "text": [
      "[ 4  6  1  1  1  1  1  1 21 11]\n",
      "[1.3862943611198906, 1.791759469228055, 0.0, 0.0, 0.0, 0.0, 0.0, 0.0, 3.044522437723423, 2.3978952727983707]\n",
      "[ 4  6  1  1  1  1  1  1 21 11]\n",
      "[1.3862943611198906, 1.791759469228055, 0.0, 0.0, 0.0, 0.0, 0.0, 0.0, 3.044522437723423, 2.3978952727983707]\n"
     ]
    },
    {
     "data": {
      "application/vnd.plotly.v1+json": {
       "config": {
        "plotlyServerURL": "https://plot.ly"
       },
       "data": [
        {
         "type": "bar",
         "x": [
          "all",
          "about",
          "after",
          "10",
          "again",
          "50",
          "ago",
          "100",
          "actually",
          "administration",
          "30",
          "12",
          "15",
          "20",
          "25",
          "4271",
          "advice",
          "against",
          "allies",
          "000",
          "2025",
          "able",
          "airlines",
          "allocation",
          "almost",
          "11",
          "90",
          "accurate",
          "actual",
          "ai",
          "00",
          "22",
          "40",
          "500",
          "5000",
          "above",
          "activity",
          "additional",
          "agree",
          "alone",
          "116",
          "18630",
          "23",
          "250",
          "35",
          "80",
          "aapl",
          "absolutely",
          "acn",
          "acquisition",
          "across",
          "actionable",
          "adding",
          "adjust",
          "advisors",
          "aerocontractors",
          "affect",
          "air",
          "allowed",
          "allows",
          "almasria",
          "125",
          "13",
          "150",
          "17th",
          "18",
          "1945",
          "200",
          "2021",
          "2024",
          "21",
          "24",
          "25k",
          "28",
          "2nd",
          "3306",
          "350",
          "36",
          "3d",
          "42",
          "4260",
          "60",
          "64",
          "65",
          "70",
          "75",
          "77",
          "8883",
          "98",
          "ability",
          "acceptable",
          "act",
          "acts",
          "addition",
          "admin",
          "advocating",
          "affected",
          "ahead",
          "ain",
          "aircraft",
          "alerts",
          "ally"
         ],
         "y": [
          4.574710978503383,
          4.276666119016055,
          3.295836866004329,
          3.044522437723423,
          2.6390573296152584,
          2.4849066497880004,
          2.4849066497880004,
          2.3978952727983707,
          2.3978952727983707,
          2.302585092994046,
          2.1972245773362196,
          2.0794415416798357,
          2.0794415416798357,
          1.9459101490553132,
          1.9459101490553132,
          1.9459101490553132,
          1.9459101490553132,
          1.9459101490553132,
          1.9459101490553132,
          1.791759469228055,
          1.791759469228055,
          1.791759469228055,
          1.791759469228055,
          1.791759469228055,
          1.791759469228055,
          1.6094379124341003,
          1.6094379124341003,
          1.6094379124341003,
          1.6094379124341003,
          1.6094379124341003,
          1.3862943611198906,
          1.3862943611198906,
          1.3862943611198906,
          1.3862943611198906,
          1.3862943611198906,
          1.3862943611198906,
          1.3862943611198906,
          1.3862943611198906,
          1.3862943611198906,
          1.3862943611198906,
          1.0986122886681098,
          1.0986122886681098,
          1.0986122886681098,
          1.0986122886681098,
          1.0986122886681098,
          1.0986122886681098,
          1.0986122886681098,
          1.0986122886681098,
          1.0986122886681098,
          1.0986122886681098,
          1.0986122886681098,
          1.0986122886681098,
          1.0986122886681098,
          1.0986122886681098,
          1.0986122886681098,
          1.0986122886681098,
          1.0986122886681098,
          1.0986122886681098,
          1.0986122886681098,
          1.0986122886681098,
          1.0986122886681098,
          0.6931471805599453,
          0.6931471805599453,
          0.6931471805599453,
          0.6931471805599453,
          0.6931471805599453,
          0.6931471805599453,
          0.6931471805599453,
          0.6931471805599453,
          0.6931471805599453,
          0.6931471805599453,
          0.6931471805599453,
          0.6931471805599453,
          0.6931471805599453,
          0.6931471805599453,
          0.6931471805599453,
          0.6931471805599453,
          0.6931471805599453,
          0.6931471805599453,
          0.6931471805599453,
          0.6931471805599453,
          0.6931471805599453,
          0.6931471805599453,
          0.6931471805599453,
          0.6931471805599453,
          0.6931471805599453,
          0.6931471805599453,
          0.6931471805599453,
          0.6931471805599453,
          0.6931471805599453,
          0.6931471805599453,
          0.6931471805599453,
          0.6931471805599453,
          0.6931471805599453,
          0.6931471805599453,
          0.6931471805599453,
          0.6931471805599453,
          0.6931471805599453,
          0.6931471805599453,
          0.6931471805599453,
          0.6931471805599453,
          0.6931471805599453
         ]
        }
       ],
       "layout": {
        "template": {
         "data": {
          "bar": [
           {
            "error_x": {
             "color": "#2a3f5f"
            },
            "error_y": {
             "color": "#2a3f5f"
            },
            "marker": {
             "line": {
              "color": "#E5ECF6",
              "width": 0.5
             },
             "pattern": {
              "fillmode": "overlay",
              "size": 10,
              "solidity": 0.2
             }
            },
            "type": "bar"
           }
          ],
          "barpolar": [
           {
            "marker": {
             "line": {
              "color": "#E5ECF6",
              "width": 0.5
             },
             "pattern": {
              "fillmode": "overlay",
              "size": 10,
              "solidity": 0.2
             }
            },
            "type": "barpolar"
           }
          ],
          "carpet": [
           {
            "aaxis": {
             "endlinecolor": "#2a3f5f",
             "gridcolor": "white",
             "linecolor": "white",
             "minorgridcolor": "white",
             "startlinecolor": "#2a3f5f"
            },
            "baxis": {
             "endlinecolor": "#2a3f5f",
             "gridcolor": "white",
             "linecolor": "white",
             "minorgridcolor": "white",
             "startlinecolor": "#2a3f5f"
            },
            "type": "carpet"
           }
          ],
          "choropleth": [
           {
            "colorbar": {
             "outlinewidth": 0,
             "ticks": ""
            },
            "type": "choropleth"
           }
          ],
          "contour": [
           {
            "colorbar": {
             "outlinewidth": 0,
             "ticks": ""
            },
            "colorscale": [
             [
              0,
              "#0d0887"
             ],
             [
              0.1111111111111111,
              "#46039f"
             ],
             [
              0.2222222222222222,
              "#7201a8"
             ],
             [
              0.3333333333333333,
              "#9c179e"
             ],
             [
              0.4444444444444444,
              "#bd3786"
             ],
             [
              0.5555555555555556,
              "#d8576b"
             ],
             [
              0.6666666666666666,
              "#ed7953"
             ],
             [
              0.7777777777777778,
              "#fb9f3a"
             ],
             [
              0.8888888888888888,
              "#fdca26"
             ],
             [
              1,
              "#f0f921"
             ]
            ],
            "type": "contour"
           }
          ],
          "contourcarpet": [
           {
            "colorbar": {
             "outlinewidth": 0,
             "ticks": ""
            },
            "type": "contourcarpet"
           }
          ],
          "heatmap": [
           {
            "colorbar": {
             "outlinewidth": 0,
             "ticks": ""
            },
            "colorscale": [
             [
              0,
              "#0d0887"
             ],
             [
              0.1111111111111111,
              "#46039f"
             ],
             [
              0.2222222222222222,
              "#7201a8"
             ],
             [
              0.3333333333333333,
              "#9c179e"
             ],
             [
              0.4444444444444444,
              "#bd3786"
             ],
             [
              0.5555555555555556,
              "#d8576b"
             ],
             [
              0.6666666666666666,
              "#ed7953"
             ],
             [
              0.7777777777777778,
              "#fb9f3a"
             ],
             [
              0.8888888888888888,
              "#fdca26"
             ],
             [
              1,
              "#f0f921"
             ]
            ],
            "type": "heatmap"
           }
          ],
          "histogram": [
           {
            "marker": {
             "pattern": {
              "fillmode": "overlay",
              "size": 10,
              "solidity": 0.2
             }
            },
            "type": "histogram"
           }
          ],
          "histogram2d": [
           {
            "colorbar": {
             "outlinewidth": 0,
             "ticks": ""
            },
            "colorscale": [
             [
              0,
              "#0d0887"
             ],
             [
              0.1111111111111111,
              "#46039f"
             ],
             [
              0.2222222222222222,
              "#7201a8"
             ],
             [
              0.3333333333333333,
              "#9c179e"
             ],
             [
              0.4444444444444444,
              "#bd3786"
             ],
             [
              0.5555555555555556,
              "#d8576b"
             ],
             [
              0.6666666666666666,
              "#ed7953"
             ],
             [
              0.7777777777777778,
              "#fb9f3a"
             ],
             [
              0.8888888888888888,
              "#fdca26"
             ],
             [
              1,
              "#f0f921"
             ]
            ],
            "type": "histogram2d"
           }
          ],
          "histogram2dcontour": [
           {
            "colorbar": {
             "outlinewidth": 0,
             "ticks": ""
            },
            "colorscale": [
             [
              0,
              "#0d0887"
             ],
             [
              0.1111111111111111,
              "#46039f"
             ],
             [
              0.2222222222222222,
              "#7201a8"
             ],
             [
              0.3333333333333333,
              "#9c179e"
             ],
             [
              0.4444444444444444,
              "#bd3786"
             ],
             [
              0.5555555555555556,
              "#d8576b"
             ],
             [
              0.6666666666666666,
              "#ed7953"
             ],
             [
              0.7777777777777778,
              "#fb9f3a"
             ],
             [
              0.8888888888888888,
              "#fdca26"
             ],
             [
              1,
              "#f0f921"
             ]
            ],
            "type": "histogram2dcontour"
           }
          ],
          "mesh3d": [
           {
            "colorbar": {
             "outlinewidth": 0,
             "ticks": ""
            },
            "type": "mesh3d"
           }
          ],
          "parcoords": [
           {
            "line": {
             "colorbar": {
              "outlinewidth": 0,
              "ticks": ""
             }
            },
            "type": "parcoords"
           }
          ],
          "pie": [
           {
            "automargin": true,
            "type": "pie"
           }
          ],
          "scatter": [
           {
            "fillpattern": {
             "fillmode": "overlay",
             "size": 10,
             "solidity": 0.2
            },
            "type": "scatter"
           }
          ],
          "scatter3d": [
           {
            "line": {
             "colorbar": {
              "outlinewidth": 0,
              "ticks": ""
             }
            },
            "marker": {
             "colorbar": {
              "outlinewidth": 0,
              "ticks": ""
             }
            },
            "type": "scatter3d"
           }
          ],
          "scattercarpet": [
           {
            "marker": {
             "colorbar": {
              "outlinewidth": 0,
              "ticks": ""
             }
            },
            "type": "scattercarpet"
           }
          ],
          "scattergeo": [
           {
            "marker": {
             "colorbar": {
              "outlinewidth": 0,
              "ticks": ""
             }
            },
            "type": "scattergeo"
           }
          ],
          "scattergl": [
           {
            "marker": {
             "colorbar": {
              "outlinewidth": 0,
              "ticks": ""
             }
            },
            "type": "scattergl"
           }
          ],
          "scattermap": [
           {
            "marker": {
             "colorbar": {
              "outlinewidth": 0,
              "ticks": ""
             }
            },
            "type": "scattermap"
           }
          ],
          "scattermapbox": [
           {
            "marker": {
             "colorbar": {
              "outlinewidth": 0,
              "ticks": ""
             }
            },
            "type": "scattermapbox"
           }
          ],
          "scatterpolar": [
           {
            "marker": {
             "colorbar": {
              "outlinewidth": 0,
              "ticks": ""
             }
            },
            "type": "scatterpolar"
           }
          ],
          "scatterpolargl": [
           {
            "marker": {
             "colorbar": {
              "outlinewidth": 0,
              "ticks": ""
             }
            },
            "type": "scatterpolargl"
           }
          ],
          "scatterternary": [
           {
            "marker": {
             "colorbar": {
              "outlinewidth": 0,
              "ticks": ""
             }
            },
            "type": "scatterternary"
           }
          ],
          "surface": [
           {
            "colorbar": {
             "outlinewidth": 0,
             "ticks": ""
            },
            "colorscale": [
             [
              0,
              "#0d0887"
             ],
             [
              0.1111111111111111,
              "#46039f"
             ],
             [
              0.2222222222222222,
              "#7201a8"
             ],
             [
              0.3333333333333333,
              "#9c179e"
             ],
             [
              0.4444444444444444,
              "#bd3786"
             ],
             [
              0.5555555555555556,
              "#d8576b"
             ],
             [
              0.6666666666666666,
              "#ed7953"
             ],
             [
              0.7777777777777778,
              "#fb9f3a"
             ],
             [
              0.8888888888888888,
              "#fdca26"
             ],
             [
              1,
              "#f0f921"
             ]
            ],
            "type": "surface"
           }
          ],
          "table": [
           {
            "cells": {
             "fill": {
              "color": "#EBF0F8"
             },
             "line": {
              "color": "white"
             }
            },
            "header": {
             "fill": {
              "color": "#C8D4E3"
             },
             "line": {
              "color": "white"
             }
            },
            "type": "table"
           }
          ]
         },
         "layout": {
          "annotationdefaults": {
           "arrowcolor": "#2a3f5f",
           "arrowhead": 0,
           "arrowwidth": 1
          },
          "autotypenumbers": "strict",
          "coloraxis": {
           "colorbar": {
            "outlinewidth": 0,
            "ticks": ""
           }
          },
          "colorscale": {
           "diverging": [
            [
             0,
             "#8e0152"
            ],
            [
             0.1,
             "#c51b7d"
            ],
            [
             0.2,
             "#de77ae"
            ],
            [
             0.3,
             "#f1b6da"
            ],
            [
             0.4,
             "#fde0ef"
            ],
            [
             0.5,
             "#f7f7f7"
            ],
            [
             0.6,
             "#e6f5d0"
            ],
            [
             0.7,
             "#b8e186"
            ],
            [
             0.8,
             "#7fbc41"
            ],
            [
             0.9,
             "#4d9221"
            ],
            [
             1,
             "#276419"
            ]
           ],
           "sequential": [
            [
             0,
             "#0d0887"
            ],
            [
             0.1111111111111111,
             "#46039f"
            ],
            [
             0.2222222222222222,
             "#7201a8"
            ],
            [
             0.3333333333333333,
             "#9c179e"
            ],
            [
             0.4444444444444444,
             "#bd3786"
            ],
            [
             0.5555555555555556,
             "#d8576b"
            ],
            [
             0.6666666666666666,
             "#ed7953"
            ],
            [
             0.7777777777777778,
             "#fb9f3a"
            ],
            [
             0.8888888888888888,
             "#fdca26"
            ],
            [
             1,
             "#f0f921"
            ]
           ],
           "sequentialminus": [
            [
             0,
             "#0d0887"
            ],
            [
             0.1111111111111111,
             "#46039f"
            ],
            [
             0.2222222222222222,
             "#7201a8"
            ],
            [
             0.3333333333333333,
             "#9c179e"
            ],
            [
             0.4444444444444444,
             "#bd3786"
            ],
            [
             0.5555555555555556,
             "#d8576b"
            ],
            [
             0.6666666666666666,
             "#ed7953"
            ],
            [
             0.7777777777777778,
             "#fb9f3a"
            ],
            [
             0.8888888888888888,
             "#fdca26"
            ],
            [
             1,
             "#f0f921"
            ]
           ]
          },
          "colorway": [
           "#636efa",
           "#EF553B",
           "#00cc96",
           "#ab63fa",
           "#FFA15A",
           "#19d3f3",
           "#FF6692",
           "#B6E880",
           "#FF97FF",
           "#FECB52"
          ],
          "font": {
           "color": "#2a3f5f"
          },
          "geo": {
           "bgcolor": "white",
           "lakecolor": "white",
           "landcolor": "#E5ECF6",
           "showlakes": true,
           "showland": true,
           "subunitcolor": "white"
          },
          "hoverlabel": {
           "align": "left"
          },
          "hovermode": "closest",
          "mapbox": {
           "style": "light"
          },
          "paper_bgcolor": "white",
          "plot_bgcolor": "#E5ECF6",
          "polar": {
           "angularaxis": {
            "gridcolor": "white",
            "linecolor": "white",
            "ticks": ""
           },
           "bgcolor": "#E5ECF6",
           "radialaxis": {
            "gridcolor": "white",
            "linecolor": "white",
            "ticks": ""
           }
          },
          "scene": {
           "xaxis": {
            "backgroundcolor": "#E5ECF6",
            "gridcolor": "white",
            "gridwidth": 2,
            "linecolor": "white",
            "showbackground": true,
            "ticks": "",
            "zerolinecolor": "white"
           },
           "yaxis": {
            "backgroundcolor": "#E5ECF6",
            "gridcolor": "white",
            "gridwidth": 2,
            "linecolor": "white",
            "showbackground": true,
            "ticks": "",
            "zerolinecolor": "white"
           },
           "zaxis": {
            "backgroundcolor": "#E5ECF6",
            "gridcolor": "white",
            "gridwidth": 2,
            "linecolor": "white",
            "showbackground": true,
            "ticks": "",
            "zerolinecolor": "white"
           }
          },
          "shapedefaults": {
           "line": {
            "color": "#2a3f5f"
           }
          },
          "ternary": {
           "aaxis": {
            "gridcolor": "white",
            "linecolor": "white",
            "ticks": ""
           },
           "baxis": {
            "gridcolor": "white",
            "linecolor": "white",
            "ticks": ""
           },
           "bgcolor": "#E5ECF6",
           "caxis": {
            "gridcolor": "white",
            "linecolor": "white",
            "ticks": ""
           }
          },
          "title": {
           "x": 0.05
          },
          "xaxis": {
           "automargin": true,
           "gridcolor": "white",
           "linecolor": "white",
           "ticks": "",
           "title": {
            "standoff": 15
           },
           "zerolinecolor": "white",
           "zerolinewidth": 2
          },
          "yaxis": {
           "automargin": true,
           "gridcolor": "white",
           "linecolor": "white",
           "ticks": "",
           "title": {
            "standoff": 15
           },
           "zerolinecolor": "white",
           "zerolinewidth": 2
          }
         }
        },
        "title": {
         "text": "過濾頻率過小的項目（由大到小排序）"
        },
        "xaxis": {
         "title": {
          "text": "項目類別"
         }
        },
        "yaxis": {
         "title": {
          "text": "頻率"
         }
        }
       }
      }
     },
     "metadata": {},
     "output_type": "display_data"
    }
   ],
   "source": [
    "import math\n",
    "term_frequencies_log = [math.log(i) for i in term_frequencies]\n",
    "print(term_frequencies[0:10])\n",
    "print(term_frequencies_log[0:10])\n",
    "\n",
    "print(term_frequencies[0:10])\n",
    "print(term_frequencies_log[0:10])\n",
    "x_data = count_vect.get_feature_names_out()[:300]\n",
    "y_data = term_frequencies_log[:300]\n",
    "\n",
    "y_values = 0.1\n",
    "\n",
    "filtered_pairs = [(x, y) for x, y in zip(x_data, y_data) if y >= y_values]\n",
    "sorted_pairs = sorted(filtered_pairs, key=lambda t: t[1], reverse=True)\n",
    "\n",
    "filtered_x_log, filtered_y_log = zip(*sorted_pairs)\n",
    "\n",
    "fig = py.graph_objects.Figure(data=[\n",
    "    py.graph_objects.Bar(x=filtered_x_log, \n",
    "                         y=filtered_y_log)\n",
    "])\n",
    "fig.update_layout(\n",
    "    title_text='過濾頻率過小的項目（由大到小排序）',\n",
    "    xaxis_title='項目類別',\n",
    "    yaxis_title='頻率',\n",
    ")"
   ]
  },
  {
   "cell_type": "markdown",
   "metadata": {},
   "source": [
    "### 第三部分\n",
    "\n",
    "1. 分析type中的貼文 (post) 和留言 (comment) 的情緒分布是否不同。\n",
    "2. 比較不同子版塊（例如 wallstreetbets vs. StockMarket）的情緒分布是否有差異。哪個版塊更樂觀或更悲觀？"
   ]
  },
  {
   "cell_type": "code",
   "execution_count": 28,
   "metadata": {},
   "outputs": [
    {
     "data": {
      "image/png": "[encoded data removed]",
      "text/plain": [
       "<Figure size 1000x600 with 1 Axes>"
      ]
     },
     "metadata": {},
     "output_type": "display_data"
    },
    {
     "name": "stdout",
     "output_type": "stream",
     "text": [
      "Proportion data for Posts and Comments:\n",
      "type        comment    post\n",
      "label_name                 \n",
      "Positive     0.1315  0.0938\n",
      "Neutral      0.4674  0.8906\n",
      "Negative     0.4010  0.0156\n"
     ]
    }
   ],
   "source": [
    "# 1. 分析type中的貼文 (post) 和留言 (comment) 的情緒分布是否不同。\n",
    "#1. Analyze whether the sentiment distribution of posts and comments in the type is different.\n",
    "\n",
    "sentiment_ratio = df_new.groupby('type')['label_name'].value_counts(normalize=True).rename('proportion').reset_index()\n",
    "\n",
    "sentiment_ratio['label_name'] = pd.Categorical(\n",
    "sentiment_ratio['label_name'], \n",
    "categories=['Positive', 'Neutral', 'Negative'], # Set the desired order\n",
    "ordered=True\n",
    ")\n",
    "sentiment_ratio = sentiment_ratio.sort_values('label_name')\n",
    "\n",
    "\n",
    "plt.figure(figsize=(10, 6))\n",
    "sns.barplot(\n",
    "x='label_name',\n",
    "y='proportion', \n",
    "hue='type', \n",
    "data=sentiment_ratio,\n",
    ")\n",
    "\n",
    "\n",
    "plt.title('Sentiment Distribution Ratio of Posts vs. Comments', fontsize=16)\n",
    "plt.xlabel('Sentiment', fontsize=12)\n",
    "plt.ylabel('Proportion', fontsize=12)\n",
    "plt.grid(axis='y', linestyle='--', alpha=0.7)\n",
    "plt.legend(title='Type')\n",
    "\n",
    "\n",
    "plt.show()\n",
    "\n",
    "\n",
    "print(\"Proportion data for Posts and Comments:\")\n",
    "print(sentiment_ratio.pivot(index='label_name', columns='type', values='proportion').round(4))\n"
   ]
  },
  {
   "cell_type": "markdown",
   "metadata": {},
   "source": [
    "Sentiment analysis of posts and comments reveals:\n",
    "\n",
    "    People tend to be neutral when posting, but become more negative when commenting.\n",
    " \n",
    " \n",
    " 貼文(post) 和留言 (comment) 的情緒分析結論 : \n",
    "   \n",
    "   人們在發貼文時候言論比較中性，但當在留言的時候就變得比較負面"
   ]
  },
  {
   "cell_type": "code",
   "execution_count": 29,
   "metadata": {},
   "outputs": [
    {
     "data": {
      "image/png": "[encoded data removed]",
      "text/plain": [
       "<Figure size 800x500 with 2 Axes>"
      ]
     },
     "metadata": {},
     "output_type": "display_data"
    },
    {
     "name": "stdout",
     "output_type": "stream",
     "text": [
      "\n",
      "情緒分佈比例數據：\n",
      "subreddit   StockMarket  wallstreetbets\n",
      "label_name                             \n",
      "Positive          0.076        0.134228\n",
      "Neutral           0.404        0.530201\n",
      "Negative          0.520        0.335570\n"
     ]
    }
   ],
   "source": [
    "# 2. 分析 wallstreetbets 和 StockMarket 兩個子版塊的情緒分布是否不同。\n",
    "# 2. Analyze whether the sentiment distribution of the two subreddits wallstreetbets and Stock\n",
    "df_wsb_sm = df_new[df_new['subreddit'].isin(['wallstreetbets', 'StockMarket'])]\n",
    "sentiment_proportion = df_wsb_sm.groupby('subreddit')['label_name'].value_counts(normalize=True).rename('proportion').reset_index()\n",
    "\n",
    "\n",
    "sentiment_pivot = sentiment_proportion.pivot(index='label_name', columns='subreddit', values='proportion').fillna(0)\n",
    "\n",
    "\n",
    "sentiment_pivot = sentiment_pivot.reindex(['Positive', 'Neutral', 'Negative'])\n",
    "\n",
    "plt.figure(figsize=(8, 5))\n",
    "sns.heatmap(\n",
    "    sentiment_pivot,\n",
    "    annot=True,         \n",
    "    fmt=\".2%\",         \n",
    "    cmap='Reds',     \n",
    "    linewidths=.5   \n",
    ")\n",
    "\n",
    "plt.title('Sentiment Distribution Heatmap: wallstreetbets vs. StockMarket', fontsize=15)\n",
    "plt.xlabel('Subreddit', fontsize=12)\n",
    "plt.ylabel('Sentiment', fontsize=12)\n",
    "\n",
    "plt.show()\n",
    "\n",
    "\n",
    "print(\"\\n情緒分佈比例數據：\")\n",
    "print(sentiment_pivot)\n"
   ]
  },
  {
   "cell_type": "markdown",
   "metadata": {},
   "source": [
    "Sentiment Analysis of Different Sub-forums:\n",
    "\n",
    "It can be seen that the StockMarket sub-forums with the darkest negative sentiment are darkest, while the WallstreetBets sub-forums with the darkest neutral sentiment are darkest.\n",
    "\n",
    "Thus, the majority of comments in the StockMarket sub-forum are relatively negative.\n",
    " \n",
    " 不同子版塊的情緒分析結論 : \n",
    "   \n",
    "   可以看出在StockMarket 在負面情緒的區塊顏色最深，wallstreetbets在中性情緒的區塊顏色最深，\n",
    "   \n",
    "   因此，在StockMarket版塊大多的留言都是比較負面的。"
   ]
  },
  {
   "cell_type": "markdown",
   "metadata": {},
   "source": [
    "# Phase 2"
   ]
  },
  {
   "cell_type": "code",
   "execution_count": 30,
   "metadata": {},
   "outputs": [
    {
     "name": "stdout",
     "output_type": "stream",
     "text": [
      "sys.executable = d:\\研究所必看\\研究所課程\\114-1\\資料探勘與應用\\DM2025Labs\\DM2025-Lab1-Exercise\\.venv\\Scripts\\python.exe\n",
      "sys.version = 3.11.0 (main, Oct 24 2022, 18:26:48) [MSC v.1933 64 bit (AMD64)]\n",
      "pandas is installed, version = 2.3.2\n"
     ]
    }
   ],
   "source": [
    "# 環境檢查：顯示目前 Python 可執行檔、版本，並檢查 pandas 是否可用與其版本\n",
    "# Environment check: show Python executable, version, and whether pandas is available and its version\n",
    "import sys, importlib\n",
    "print('sys.executable =', sys.executable)\n",
    "print('sys.version =', sys.version)\n",
    "spec = importlib.util.find_spec('pandas')\n",
    "if spec is None:\n",
    "    print('pandas is NOT installed in this Python environment')\n",
    "else:\n",
    "    import pandas as _pd\n",
    "    print('pandas is installed, version =', _pd.__version__)\n"
   ]
  },
  {
   "cell_type": "code",
   "execution_count": 31,
   "metadata": {},
   "outputs": [],
   "source": [
    "### Begin Assignment Here"
   ]
  }
 ],
 "metadata": {
  "kernelspec": {
   "display_name": "Python (dm2025lab)",
   "language": "python",
   "name": "dm2025lab"
  },
  "language_info": {
   "codemirror_mode": {
    "name": "ipython",
    "version": 3
   },
   "file_extension": ".py",
   "mimetype": "text/x-python",
   "name": "python",
   "nbconvert_exporter": "python",
   "pygments_lexer": "ipython3",
   "version": "3.11.0"
  }
 },
 "nbformat": 4,
 "nbformat_minor": 4
}
